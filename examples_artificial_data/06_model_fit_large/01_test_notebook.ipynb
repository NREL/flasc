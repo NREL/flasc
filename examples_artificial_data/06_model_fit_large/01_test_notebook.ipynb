{
 "cells": [
  {
   "cell_type": "code",
   "execution_count": 1,
   "metadata": {},
   "outputs": [],
   "source": [
    "import pickle\n",
    "\n",
    "import matplotlib.pyplot as plt\n",
    "import numpy as np\n",
    "from floris.layout_visualization import plot_turbine_labels, plot_turbine_points\n",
    "\n",
    "from flasc.model_fit.cost_library import total_wake_loss_error\n",
    "from flasc.model_fit.model_fit import ModelFit\n",
    "from flasc.model_fit.opt_library import sweep_across_sectors, sweep_opt_pair, sweep_sector"
   ]
  },
  {
   "cell_type": "code",
   "execution_count": 2,
   "metadata": {},
   "outputs": [],
   "source": [
    "# Load the data from previous example\n",
    "with open(\"farm_data.pkl\", \"rb\") as f:\n",
    "    data = pickle.load(f)\n",
    "\n",
    "# Unpack\n",
    "df_jensen = data[\"df_jensen\"]\n",
    "df_gch = data[\"df_gch\"]\n",
    "df_emg = data[\"df_emg\"]\n",
    "df_turbo = data[\"df_turbo\"]\n",
    "fmodel_emg = data[\"fmodel_emg\"]\n",
    "fmodel_emg_unc = data[\"fmodel_emg_unc\"]"
   ]
  },
  {
   "cell_type": "code",
   "execution_count": 3,
   "metadata": {},
   "outputs": [],
   "source": [
    "# Define a list of parameters to tune\n",
    "parameter_list = [\n",
    "    (\"wake\", \"wake_velocity_parameters\", \"empirical_gauss\", \"wake_expansion_rates\"),\n",
    "    (\"wake\", \"wake_velocity_parameters\", \"empirical_gauss\", \"wake_expansion_rates\"),\n",
    "]\n",
    "\n",
    "parameter_name_list = [\"we_1\", \"we_2\"]\n",
    "\n",
    "parameter_range_list = [(0.001, 0.05), (0.001, 0.05)]\n",
    "\n",
    "parameter_index_list = [0, 1]"
   ]
  },
  {
   "cell_type": "code",
   "execution_count": 4,
   "metadata": {},
   "outputs": [],
   "source": [
    "# Define the ModelFit object\n",
    "\n",
    "\n",
    "# Now pass the above cost function to the ModelFit class\n",
    "mf = ModelFit(\n",
    "    df_jensen,\n",
    "    fmodel_emg,\n",
    "    total_wake_loss_error,\n",
    "    parameter_list=parameter_list,\n",
    "    parameter_name_list=parameter_name_list,\n",
    "    parameter_range_list=parameter_range_list,\n",
    "    parameter_index_list=parameter_index_list,\n",
    ")"
   ]
  },
  {
   "cell_type": "code",
   "execution_count": 5,
   "metadata": {},
   "outputs": [
    {
     "data": {
      "text/plain": [
       "<Axes: >"
      ]
     },
     "execution_count": 5,
     "metadata": {},
     "output_type": "execute_result"
    },
    {
     "data": {
      "image/png": "[encoded data removed]",
      "text/plain": [
       "<Figure size 640x480 with 1 Axes>"
      ]
     },
     "metadata": {},
     "output_type": "display_data"
    }
   ],
   "source": [
    "## Try a few optimizations\n",
    "\n",
    "# Show the layout again\n",
    "\n",
    "fig, ax = plt.subplots()\n",
    "plot_turbine_points(fmodel_emg, ax)\n",
    "plot_turbine_labels(fmodel_emg, ax)"
   ]
  },
  {
   "cell_type": "code",
   "execution_count": 6,
   "metadata": {},
   "outputs": [
    {
     "name": "stdout",
     "output_type": "stream",
     "text": [
      "Optimizing parameter 'we_1' (1/2)\n",
      ".Testing range (0.001, 0.05) in 10 steps\n",
      "..Testing parameter value 0.001 (1/10)\n"
     ]
    },
    {
     "name": "stderr",
     "output_type": "stream",
     "text": [
      "\u001b[34mfloris.floris_model.FlorisModel\u001b[0m \u001b[1;30mWARNING\u001b[0m \u001b[33mSome velocities at the rotor are negative.\u001b[0m\n"
     ]
    },
    {
     "name": "stdout",
     "output_type": "stream",
     "text": [
      "..Testing parameter value 0.00644444 (2/10)\n",
      "..Testing parameter value 0.0118889 (3/10)\n",
      "..Testing parameter value 0.0173333 (4/10)\n",
      "..Testing parameter value 0.0227778 (5/10)\n",
      "..Testing parameter value 0.0282222 (6/10)\n",
      "..Testing parameter value 0.0336667 (7/10)\n",
      "..Testing parameter value 0.0391111 (8/10)\n",
      "..Testing parameter value 0.0445556 (9/10)\n",
      "..Testing parameter value 0.05 (10/10)\n",
      ".Found optimal value for parameter 'we_1': 0.017333333333333333\n",
      "Optimizing parameter 'we_2' (2/2)\n",
      ".Testing range (0.001, 0.05) in 10 steps\n",
      "..Testing parameter value 0.001 (1/10)\n",
      "..Testing parameter value 0.00644444 (2/10)\n",
      "..Testing parameter value 0.0118889 (3/10)\n",
      "..Testing parameter value 0.0173333 (4/10)\n",
      "..Testing parameter value 0.0227778 (5/10)\n",
      "..Testing parameter value 0.0282222 (6/10)\n",
      "..Testing parameter value 0.0336667 (7/10)\n",
      "..Testing parameter value 0.0391111 (8/10)\n",
      "..Testing parameter value 0.0445556 (9/10)\n",
      "..Testing parameter value 0.05 (10/10)\n",
      ".Found optimal value for parameter 'we_2': 0.001\n",
      "Optimization results:\n",
      "Parameter name\tOptimal value\n",
      "we_1\t0.017333333333333333\n",
      "we_2\t0.001\n"
     ]
    },
    {
     "data": {
      "text/plain": [
       "{'parameter_values': array([0.01733333, 0.001     ]),\n",
       " 'parameter_values_sweep_record': {'we_1': array([0.001     , 0.00644444, 0.01188889, 0.01733333, 0.02277778,\n",
       "         0.02822222, 0.03366667, 0.03911111, 0.04455556, 0.05      ]),\n",
       "  'we_2': array([0.001     , 0.00644444, 0.01188889, 0.01733333, 0.02277778,\n",
       "         0.02822222, 0.03366667, 0.03911111, 0.04455556, 0.05      ])},\n",
       " 'cost_values_record': {'we_1': array([ 6.33507919,  2.97039228,  0.63964126,  0.02473947,  0.96716046,\n",
       "          3.1663129 ,  6.4249327 , 10.58654089, 15.36666226, 20.4865327 ]),\n",
       "  'we_2': array([0.02473947, 0.02473947, 0.02473947, 0.02473947, 0.02473947,\n",
       "         0.02473947, 0.02473947, 0.02473947, 0.02473947, 0.02473947])}}"
      ]
     },
     "execution_count": 6,
     "metadata": {},
     "output_type": "execute_result"
    }
   ],
   "source": [
    "# Try sweep_opt_pair for 11 and 7\n",
    "sweep_opt_pair(mf, 0, 5, verbose=True)"
   ]
  },
  {
   "cell_type": "code",
   "execution_count": 7,
   "metadata": {},
   "outputs": [
    {
     "name": "stdout",
     "output_type": "stream",
     "text": [
      "Shape of df_ after filtering: (78, 17)\n",
      "Min/Max Wind Direction (0 -- 360): 0.0, 360.0\n",
      "Min/Max Wind Direction (-180 -- +180): -4.0, 24.0\n",
      "Upstream turbines for sector 10: [9, 10, 11, 12, 13]\n",
      "Downstream turbines for sector 10: [0, 1, 2, 3, 4, 5, 6, 7, 8]\n",
      "Optimizing parameter 'we_1' (1/2)\n",
      ".Testing range (0.001, 0.05) in 10 steps\n",
      "..Testing parameter value 0.001 (1/10)\n"
     ]
    },
    {
     "name": "stderr",
     "output_type": "stream",
     "text": [
      "\u001b[34mfloris.floris_model.FlorisModel\u001b[0m \u001b[1;30mWARNING\u001b[0m \u001b[33mSome velocities at the rotor are negative.\u001b[0m\n"
     ]
    },
    {
     "name": "stdout",
     "output_type": "stream",
     "text": [
      "..Testing parameter value 0.00644444 (2/10)\n",
      "..Testing parameter value 0.0118889 (3/10)\n",
      "..Testing parameter value 0.0173333 (4/10)\n",
      "..Testing parameter value 0.0227778 (5/10)\n",
      "..Testing parameter value 0.0282222 (6/10)\n",
      "..Testing parameter value 0.0336667 (7/10)\n",
      "..Testing parameter value 0.0391111 (8/10)\n",
      "..Testing parameter value 0.0445556 (9/10)\n",
      "..Testing parameter value 0.05 (10/10)\n",
      ".Found optimal value for parameter 'we_1': 0.017333333333333333\n",
      "Optimizing parameter 'we_2' (2/2)\n",
      ".Testing range (0.001, 0.05) in 10 steps\n",
      "..Testing parameter value 0.001 (1/10)\n",
      "..Testing parameter value 0.00644444 (2/10)\n",
      "..Testing parameter value 0.0118889 (3/10)\n",
      "..Testing parameter value 0.0173333 (4/10)\n",
      "..Testing parameter value 0.0227778 (5/10)\n",
      "..Testing parameter value 0.0282222 (6/10)\n",
      "..Testing parameter value 0.0336667 (7/10)\n",
      "..Testing parameter value 0.0391111 (8/10)\n",
      "..Testing parameter value 0.0445556 (9/10)\n",
      "..Testing parameter value 0.05 (10/10)\n",
      ".Found optimal value for parameter 'we_2': 0.028222222222222225\n",
      "Optimization results:\n",
      "Parameter name\tOptimal value\n",
      "we_1\t0.017333333333333333\n",
      "we_2\t0.028222222222222225\n"
     ]
    },
    {
     "data": {
      "text/plain": [
       "{'parameter_values': array([0.01733333, 0.02822222]),\n",
       " 'parameter_values_sweep_record': {'we_1': array([0.001     , 0.00644444, 0.01188889, 0.01733333, 0.02277778,\n",
       "         0.02822222, 0.03366667, 0.03911111, 0.04455556, 0.05      ]),\n",
       "  'we_2': array([0.001     , 0.00644444, 0.01188889, 0.01733333, 0.02277778,\n",
       "         0.02822222, 0.03366667, 0.03911111, 0.04455556, 0.05      ])},\n",
       " 'cost_values_record': {'we_1': array([15.87384793,  7.78698061,  2.47192461,  0.14550732,  0.5149939 ,\n",
       "          2.92234001,  6.75602188, 11.54304207, 16.88192727, 22.40038512]),\n",
       "  'we_2': array([0.31507107, 0.17535273, 0.08540892, 0.03136656, 0.00517559,\n",
       "         0.00059004, 0.01278274, 0.03829235, 0.07434664, 0.11758723])}}"
      ]
     },
     "execution_count": 7,
     "metadata": {},
     "output_type": "execute_result"
    }
   ],
   "source": [
    "sweep_sector(mf, sector=10, wind_radius=15.0, verbose=True)"
   ]
  },
  {
   "cell_type": "code",
   "execution_count": 8,
   "metadata": {},
   "outputs": [
    {
     "name": "stdout",
     "output_type": "stream",
     "text": [
      "Starting optimization across 8 sectors\n",
      "Optimizing for sector 1/8 (0.0 degrees)\n"
     ]
    },
    {
     "name": "stderr",
     "output_type": "stream",
     "text": [
      "\u001b[34mfloris.floris_model.FlorisModel\u001b[0m \u001b[1;30mWARNING\u001b[0m \u001b[33mSome velocities at the rotor are negative.\u001b[0m\n"
     ]
    },
    {
     "name": "stdout",
     "output_type": "stream",
     "text": [
      "Optimizing for sector 2/8 (45.0 degrees)\n"
     ]
    },
    {
     "name": "stderr",
     "output_type": "stream",
     "text": [
      "\u001b[34mfloris.floris_model.FlorisModel\u001b[0m \u001b[1;30mWARNING\u001b[0m \u001b[33mSome velocities at the rotor are negative.\u001b[0m\n"
     ]
    },
    {
     "name": "stdout",
     "output_type": "stream",
     "text": [
      "Optimizing for sector 3/8 (90.0 degrees)\n"
     ]
    },
    {
     "name": "stderr",
     "output_type": "stream",
     "text": [
      "\u001b[34mfloris.floris_model.FlorisModel\u001b[0m \u001b[1;30mWARNING\u001b[0m \u001b[33mSome velocities at the rotor are negative.\u001b[0m\n"
     ]
    },
    {
     "name": "stdout",
     "output_type": "stream",
     "text": [
      "Optimizing for sector 4/8 (135.0 degrees)\n"
     ]
    },
    {
     "name": "stderr",
     "output_type": "stream",
     "text": [
      "\u001b[34mfloris.floris_model.FlorisModel\u001b[0m \u001b[1;30mWARNING\u001b[0m \u001b[33mSome velocities at the rotor are negative.\u001b[0m\n"
     ]
    },
    {
     "name": "stdout",
     "output_type": "stream",
     "text": [
      "Optimizing for sector 5/8 (180.0 degrees)\n"
     ]
    },
    {
     "name": "stderr",
     "output_type": "stream",
     "text": [
      "\u001b[34mfloris.floris_model.FlorisModel\u001b[0m \u001b[1;30mWARNING\u001b[0m \u001b[33mSome velocities at the rotor are negative.\u001b[0m\n"
     ]
    },
    {
     "name": "stdout",
     "output_type": "stream",
     "text": [
      "Optimizing for sector 6/8 (225.0 degrees)\n"
     ]
    },
    {
     "name": "stderr",
     "output_type": "stream",
     "text": [
      "\u001b[34mfloris.floris_model.FlorisModel\u001b[0m \u001b[1;30mWARNING\u001b[0m \u001b[33mSome velocities at the rotor are negative.\u001b[0m\n"
     ]
    },
    {
     "name": "stdout",
     "output_type": "stream",
     "text": [
      "Optimizing for sector 7/8 (270.0 degrees)\n"
     ]
    },
    {
     "name": "stderr",
     "output_type": "stream",
     "text": [
      "\u001b[34mfloris.floris_model.FlorisModel\u001b[0m \u001b[1;30mWARNING\u001b[0m \u001b[33mSome velocities at the rotor are negative.\u001b[0m\n"
     ]
    },
    {
     "name": "stdout",
     "output_type": "stream",
     "text": [
      "Optimizing for sector 8/8 (315.0 degrees)\n"
     ]
    },
    {
     "name": "stderr",
     "output_type": "stream",
     "text": [
      "\u001b[34mfloris.floris_model.FlorisModel\u001b[0m \u001b[1;30mWARNING\u001b[0m \u001b[33mSome velocities at the rotor are negative.\u001b[0m\n"
     ]
    },
    {
     "data": {
      "text/plain": [
       "{'mean_parameters': array([0.01869444, 0.00576389]),\n",
       " 'median_parameters': array([0.01733333, 0.00372222]),\n",
       " 'max_parameters': array([0.02277778, 0.02277778]),\n",
       " 'min_parameters': array([0.01188889, 0.001     ]),\n",
       " 'std_parameters': array([0.00360116, 0.00690688]),\n",
       " 'res_mat': array([[0.01188889, 0.02277778],\n",
       "        [0.02277778, 0.001     ],\n",
       "        [0.01733333, 0.001     ],\n",
       "        [0.02277778, 0.001     ],\n",
       "        [0.01733333, 0.001     ],\n",
       "        [0.01733333, 0.00644444],\n",
       "        [0.01733333, 0.00644444],\n",
       "        [0.02277778, 0.00644444]]),\n",
       " 'wd_sectors': array([  0.,  45.,  90., 135., 180., 225., 270., 315.])}"
      ]
     },
     "execution_count": 8,
     "metadata": {},
     "output_type": "execute_result"
    }
   ],
   "source": [
    "sweep_across_sectors(mf, wd_sectors=np.arange(0, 360, 45.0), wind_radius=22.5)"
   ]
  },
  {
   "cell_type": "code",
   "execution_count": null,
   "metadata": {},
   "outputs": [],
   "source": []
  }
 ],
 "metadata": {
  "kernelspec": {
   "display_name": "flasc",
   "language": "python",
   "name": "python3"
  },
  "language_info": {
   "codemirror_mode": {
    "name": "ipython",
    "version": 3
   },
   "file_extension": ".py",
   "mimetype": "text/x-python",
   "name": "python",
   "nbconvert_exporter": "python",
   "pygments_lexer": "ipython3",
   "version": "3.10.13"
  }
 },
 "nbformat": 4,
 "nbformat_minor": 2
}
