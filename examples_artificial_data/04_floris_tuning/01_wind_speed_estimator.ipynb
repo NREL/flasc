{
 "cells": [
  {
   "cell_type": "markdown",
   "metadata": {},
   "source": [
    "# Wind speed estimation\n",
    "\n",
    "This is small example demonstrates the usage of `estimate_ws_with_floris` function to estimate the wind speed at a given point using the FLORIS model. "
   ]
  },
  {
   "cell_type": "markdown",
   "metadata": {},
   "source": [
    "In this example the wind speed is estimated from artificial power data generated using the FLORIS model.  The data includes a 1 m/s bias to the original wind speed which is corrected via the estimator"
   ]
  },
  {
   "cell_type": "code",
   "execution_count": null,
   "metadata": {},
   "outputs": [],
   "source": [
    "from pathlib import Path\n",
    "\n",
    "import matplotlib.pyplot as plt\n",
    "import numpy as np\n",
    "import seaborn as sns\n",
    "from floris import FlorisModel, TimeSeries\n",
    "\n",
    "from flasc import FlascDataFrame\n",
    "from flasc.utilities.floris_tools import estimate_ws_with_floris"
   ]
  },
  {
   "cell_type": "markdown",
   "metadata": {},
   "source": [
    "### Establish biased wind speed data"
   ]
  },
  {
   "cell_type": "code",
   "execution_count": null,
   "metadata": {},
   "outputs": [],
   "source": [
    "file_path = Path.cwd()\n",
    "fm_path = file_path / \"../floris_input_artificial/gch.yaml\"\n",
    "fm = FlorisModel(fm_path)\n",
    "\n",
    "# Set to 1 turbine layout with a linear sweep over wind speeds\n",
    "N = 25\n",
    "wind_speeds = np.linspace(0.01, 20.0, N)\n",
    "time_series = TimeSeries(\n",
    "    wind_speeds=wind_speeds, wind_directions=270.0, turbulence_intensities=0.06\n",
    ")\n",
    "fm.set(layout_x=[0], layout_y=[0], wind_data=time_series)\n",
    "fm.run()\n",
    "\n",
    "# Construct df_scada from the FLORIS output\n",
    "df_scada = FlascDataFrame(\n",
    "    {\n",
    "        \"time\": np.arange(0, N),\n",
    "        \"pow_000\": fm.get_turbine_powers().squeeze() / 1000.0,\n",
    "        \"ws_000\": wind_speeds + 1.0,  # Add 1m/s bias\n",
    "    }\n",
    ")\n",
    "print(df_scada.head())"
   ]
  },
  {
   "cell_type": "markdown",
   "metadata": {},
   "source": [
    "### Run wind speed estimation procedure"
   ]
  },
  {
   "cell_type": "code",
   "execution_count": null,
   "metadata": {},
   "outputs": [],
   "source": [
    "df_scada = estimate_ws_with_floris(df_scada, fm)\n",
    "print(df_scada.head())"
   ]
  },
  {
   "cell_type": "markdown",
   "metadata": {},
   "source": [
    "### Calculate power with wind speed and estimated wind speed"
   ]
  },
  {
   "cell_type": "code",
   "execution_count": null,
   "metadata": {},
   "outputs": [],
   "source": [
    "# Calculate with biased measurement\n",
    "time_series = TimeSeries(\n",
    "    wind_speeds=df_scada.ws_000.values, wind_directions=270.0, turbulence_intensities=0.06\n",
    ")\n",
    "fm.set(wind_data=time_series)\n",
    "fm.run()\n",
    "power_from_original_ws = fm.get_turbine_powers().squeeze() / 1000.0\n",
    "\n",
    "# Calculate with estimated wind speed\n",
    "time_series = TimeSeries(\n",
    "    wind_speeds=df_scada.ws_est_000.values, wind_directions=270.0, turbulence_intensities=0.06\n",
    ")\n",
    "fm.set(wind_data=time_series)\n",
    "fm.run()\n",
    "power_from_estimated_ws = fm.get_turbine_powers().squeeze() / 1000.0\n",
    "\n",
    "# Compute the error of each relative to measured power\n",
    "original_ws_error = df_scada.pow_000.values - power_from_original_ws\n",
    "estimated_ws_error = df_scada.pow_000.values - power_from_estimated_ws\n",
    "\n",
    "# Plot the error against the measured power\n",
    "fig, ax = plt.subplots()\n",
    "sns.scatterplot(x=df_scada.pow_000, y=original_ws_error, ax=ax, label=\"Original WS\", s=100)\n",
    "sns.scatterplot(x=df_scada.pow_000, y=estimated_ws_error, ax=ax, label=\"Estimated WS\")\n",
    "ax.set_xlabel(\"Measured Power [kW]\")\n",
    "ax.set_ylabel(\"Error [kW]\")\n",
    "ax.set_title(\"Error vs Measured Power\")\n",
    "ax.grid(True)\n",
    "plt.show()"
   ]
  }
 ],
 "metadata": {
  "kernelspec": {
   "display_name": ".venv",
   "language": "python",
   "name": "python3"
  },
  "language_info": {
   "codemirror_mode": {
    "name": "ipython",
    "version": 3
   },
   "file_extension": ".py",
   "mimetype": "text/x-python",
   "name": "python",
   "nbconvert_exporter": "python",
   "pygments_lexer": "ipython3",
   "version": "3.10.4"
  }
 },
 "nbformat": 4,
 "nbformat_minor": 2
}
