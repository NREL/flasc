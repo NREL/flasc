{
 "cells": [
  {
   "attachments": {},
   "cell_type": "markdown",
   "metadata": {},
   "source": [
    "# **Import dependencies**"
   ]
  },
  {
   "cell_type": "code",
   "execution_count": 1,
   "metadata": {},
   "outputs": [],
   "source": [
    "# from datetime import timedelta as td\n",
    "import os\n",
    "import pandas as pd\n",
    "import numpy as np\n",
    "from matplotlib import pyplot as plt\n",
    "import warnings as wn\n",
    "\n",
    "from floris.utilities import wrap_360\n",
    "\n",
    "from flasc.turbine_analysis import northing_offset as nof\n",
    "from flasc import floris_tools as ftools\n",
    "from flasc.dataframe_operations import (\n",
    "    dataframe_manipulations as dfm,\n",
    "    dataframe_filtering as dff,\n",
    ")\n",
    "from flasc.energy_ratio import energy_ratio_wd_bias_estimation as best\n",
    "# from flasc import time_operations as fto\n",
    "from flasc import optimization as flopt\n",
    "\n",
    "from flasc.examples.models import load_floris_artificial as load_floris"
   ]
  },
  {
   "cell_type": "code",
   "execution_count": 2,
   "metadata": {},
   "outputs": [],
   "source": [
    "# User settings\n",
    "save_figures = True\n",
    "plot_figures_in_notebook = True"
   ]
  },
  {
   "attachments": {},
   "cell_type": "markdown",
   "metadata": {},
   "source": [
    "# **Step 0**: Initial data pulldown\n",
    "First, we import the data from the common_windfarm_information folder. This may take a while, so we keep these variables unchanged. These are df_scada_raw and df_metmast_raw. These variables are not manipulated throughout the script."
   ]
  },
  {
   "cell_type": "code",
   "execution_count": 3,
   "metadata": {},
   "outputs": [],
   "source": [
    "def load_data():\n",
    "    root_path = os.getcwd()\n",
    "    f = os.path.join(root_path, \"postprocessed\", \"df_scada_600s_wspowfiltered.ftr\")\n",
    "    df_scada = pd.read_feather(f)\n",
    "\n",
    "    # # Optionally: downsample to [x] minute averages to speed up things\n",
    "    # cols_angular = [c for c in df_scada if ((\"wd_\" in c) or (\"yaw_\" in c))]\n",
    "    # df_scada = fto.df_downsample(\n",
    "    #     df_scada,\n",
    "    #     cols_angular=cols_angular,\n",
    "    #     window_width=td(seconds=600),\n",
    "    # )\n",
    "\n",
    "    return df_scada\n",
    "\n",
    "df_scada_northing_uncalibrated = load_data()\n",
    "df_scada_northing_uncalibrated[\"ti\"] = 0.06  # Assume a certain ambient turbulence intensity"
   ]
  },
  {
   "attachments": {},
   "cell_type": "markdown",
   "metadata": {},
   "source": [
    "# **Step 1**: Initialize FLORIS\n",
    "and precalculate a large set of solutions using the parallel computing interface in FLORIS"
   ]
  },
  {
   "cell_type": "code",
   "execution_count": 4,
   "metadata": {},
   "outputs": [],
   "source": [
    "# Now we calculate a grid of FLORIS solutions. Since our estimated SCADA\n",
    "# data changes as we shift its wind direction, the predicted solutions\n",
    "# according to FLORIS will also change. Therefore, we precalculate a grid\n",
    "# of FLORIS solutions and insert that into the bias estimation class.\n",
    "fi, turbine_weights = load_floris()\n",
    "\n",
    "# Grab the precalculated FLORIS model solutions from the 'setup_floris_model' directory\n",
    "root_path = os.getcwd()\n",
    "fn_approx = os.path.join(root_path, \"..\", \"setup_floris_model\", \"df_fi_approx_gch.ftr\")\n",
    "if os.path.exists(fn_approx):\n",
    "    df_fi_approx = pd.read_feather(fn_approx)\n",
    "else:\n",
    "    raise UserWarning(\"Please run 'setup_floris_model/precalculate_floris_solutions.py' for the appropriate wake models first.\")"
   ]
  },
  {
   "attachments": {},
   "cell_type": "markdown",
   "metadata": {},
   "source": [
    "# **Step 2**: Cross-compare wind direction measurements\n",
    "and see if the relative offset between turbines is consistent. If the offset is consistent, then we know we can find a single offset value that would align the two turbine's northings. If this is not the case, one or both turbines likely experience jumps in their nacelle calibration throughout the timeseries. The current functionality is limited and cannot account for this yet."
   ]
  },
  {
   "cell_type": "code",
   "execution_count": 5,
   "metadata": {},
   "outputs": [
    {
     "ename": "AttributeError",
     "evalue": "'tuple' object has no attribute 'layout_x'",
     "output_type": "error",
     "traceback": [
      "\u001b[0;31m---------------------------------------------------------------------------\u001b[0m",
      "\u001b[0;31mAttributeError\u001b[0m                            Traceback (most recent call last)",
      "Cell \u001b[0;32mIn[5], line 4\u001b[0m\n\u001b[1;32m      1\u001b[0m \u001b[39m# Create a copy in which we mark the wd measurements of turbines with northing drift  as faulty\u001b[39;00m\n\u001b[1;32m      2\u001b[0m df_scada_marked_faulty_northing_drift \u001b[39m=\u001b[39m df_scada_northing_uncalibrated\u001b[39m.\u001b[39mcopy() \n\u001b[0;32m----> 4\u001b[0m turb_wd_consistency \u001b[39m=\u001b[39m nof\u001b[39m.\u001b[39;49mcrosscheck_northing_offset_consistency(\n\u001b[1;32m      5\u001b[0m     df\u001b[39m=\u001b[39;49mdf_scada_marked_faulty_northing_drift,\n\u001b[1;32m      6\u001b[0m     fi\u001b[39m=\u001b[39;49mfi,\n\u001b[1;32m      7\u001b[0m     plot_figure\u001b[39m=\u001b[39;49m\u001b[39mTrue\u001b[39;49;00m\n\u001b[1;32m      8\u001b[0m )\n\u001b[1;32m      9\u001b[0m \u001b[39mprint\u001b[39m(turb_wd_consistency)\n\u001b[1;32m     11\u001b[0m \u001b[39m# Mark wind direction measurements of turbines with inconsistent calibration as faulty\u001b[39;00m\n",
      "File \u001b[0;32m/mnt/c/Users/Bart.Doekemeijer/OneDrive - Shell/Documents/python_scripts/flasc/flasc/turbine_analysis/northing_offset.py:29\u001b[0m, in \u001b[0;36mcrosscheck_northing_offset_consistency\u001b[0;34m(df, fi, bias_timestep, nan_thrshld, plot_figure)\u001b[0m\n\u001b[1;32m     27\u001b[0m \u001b[39mdef\u001b[39;00m \u001b[39mcrosscheck_northing_offset_consistency\u001b[39m(df, fi, bias_timestep\u001b[39m=\u001b[39mtd(days\u001b[39m=\u001b[39m\u001b[39m120\u001b[39m), nan_thrshld\u001b[39m=\u001b[39m\u001b[39m0.50\u001b[39m, plot_figure\u001b[39m=\u001b[39m\u001b[39mTrue\u001b[39;00m):\n\u001b[1;32m     28\u001b[0m     \u001b[39m# Load data and extract info\u001b[39;00m\n\u001b[0;32m---> 29\u001b[0m     num_turbines \u001b[39m=\u001b[39m \u001b[39mlen\u001b[39m(fi\u001b[39m.\u001b[39;49mlayout_x)\n\u001b[1;32m     30\u001b[0m     turbine_list \u001b[39m=\u001b[39m \u001b[39mrange\u001b[39m(num_turbines)\n\u001b[1;32m     32\u001b[0m     \u001b[39m# Set up time_array and split into chunks\u001b[39;00m\n",
      "\u001b[0;31mAttributeError\u001b[0m: 'tuple' object has no attribute 'layout_x'"
     ]
    }
   ],
   "source": [
    "# Create a copy in which we mark the wd measurements of turbines with northing drift  as faulty\n",
    "df_scada_marked_faulty_northing_drift = df_scada_northing_uncalibrated.copy() \n",
    "\n",
    "turb_wd_consistency = nof.crosscheck_northing_offset_consistency(\n",
    "    df=df_scada_marked_faulty_northing_drift,\n",
    "    fi=fi,\n",
    "    plot_figure=True\n",
    ")\n",
    "print(turb_wd_consistency)\n",
    "\n",
    "# Mark wind direction measurements of turbines with inconsistent calibration as faulty\n",
    "faulty_turbines = [not s == \"clean\" for s in turb_wd_consistency]\n",
    "for ti in np.where(faulty_turbines)[0]:\n",
    "    df_scada_marked_faulty_northing_drift[\"wd_{:03d}\".format(ti)] = np.nan"
   ]
  },
  {
   "attachments": {},
   "cell_type": "markdown",
   "metadata": {},
   "source": [
    "# **Step 3**: Estimate the wind direction bias for a single wind turbine\n",
    "By looking at the energy ratios and looking at the average offset between turbines' wind direction measurements, we can align every turbine that was flagged 'green' in the above plot with true north. Wind directions of turbines flagged red should not be used."
   ]
  },
  {
   "cell_type": "code",
   "execution_count": null,
   "metadata": {},
   "outputs": [],
   "source": [
    "def get_bias_for_single_turbine(df, fi, ti, opt_search_range=[-180.0, 180.0], plot=True, figure_save_path=None):\n",
    "    print(\"Initializing wd bias estimator object for turbine %03d...\" % ti)\n",
    "\n",
    "    # Copy variables and unlink them\n",
    "    df = df.copy()  # Unlink from input \n",
    "\n",
    "    # Calculate which turbines are upstream for every wind direction\n",
    "    df_upstream = ftools.get_upstream_turbs_floris(fi, wd_step=2.0)\n",
    "\n",
    "    # We assign the total datasets \"true\" wind direction as equal to the wind\n",
    "    # direction of the turbine which we want to perform northing calibration\n",
    "    # on. In this case, turbine 'ti'.\n",
    "    df = dfm.set_wd_by_turbines(df, [ti])\n",
    "\n",
    "    # We define a function that calculates the freestream wind speed based\n",
    "    # on a dataframe that is inserted. It does this based on knowing which\n",
    "    # turbines are upstream for what wind directions, and then knowledge\n",
    "    # of what the wind direction is for every row in the dataframe. However,\n",
    "    # since the shift the \"true\" wind direction many times to estimate the\n",
    "    # northing bias, we cannot precalculate this. It changes with every\n",
    "    # northing bias guess. Hence, we must insert a function.\n",
    "    def _set_ws_fun(df):\n",
    "        return dfm.set_ws_by_upstream_turbines_in_radius(\n",
    "            df=df,\n",
    "            df_upstream=df_upstream,\n",
    "            turb_no=ti,\n",
    "            x_turbs=fi.layout_x,\n",
    "            y_turbs=fi.layout_y,\n",
    "            max_radius=5000.0,\n",
    "            include_itself=True,\n",
    "        )\n",
    "\n",
    "    # We similarly define a function that calculates the reference power. This\n",
    "    # is typically the power production of one or multiple upstream turbines.\n",
    "    # Here, we assume it is the average power production of all upstream\n",
    "    # turbines. Which turbines are upstream depends on the wind direction.\n",
    "    def _set_pow_ref_fun(df):\n",
    "        return dfm.set_pow_ref_by_upstream_turbines_in_radius(\n",
    "            df=df,\n",
    "            df_upstream=df_upstream,\n",
    "            turb_no=ti,\n",
    "            x_turbs=fi.layout_x,\n",
    "            y_turbs=fi.layout_y,\n",
    "            max_radius=5000.0,\n",
    "            include_itself=True,\n",
    "        )\n",
    "\n",
    "    # Now we calculate a grid of FLORIS solutions. Since our estimated SCADA\n",
    "    # data changes as we shift its wind direction, the predicted solutions\n",
    "    # according to FLORIS will also change. Therefore, we precalculate a grid\n",
    "    # of FLORIS solutions and insert that into the bias estimation class.\n",
    "    df_approx = pd.read_feather(fn_approx)\n",
    "\n",
    "    # We now have the reference power productions specified, being equal to\n",
    "    # the mean power production of all turbines upstream. We also need to\n",
    "    # define a test power production, which should be waked at least part of\n",
    "    # the time so that we can match it with our FLORIS predictions. Here, we\n",
    "    # calculate the energy ratios for the 3 turbines closest to the turbine\n",
    "    # from which we take the wind direction measurement ('ti').\n",
    "    turbines_sorted_by_distance = ftools.get_turbs_in_radius(\n",
    "        x_turbs=fi.layout_x,\n",
    "        y_turbs=fi.layout_y,\n",
    "        turb_no=ti,\n",
    "        max_radius=1.0e9,\n",
    "        include_itself=False,\n",
    "        sort_by_distance=True,\n",
    "    )\n",
    "    test_turbines = turbines_sorted_by_distance[0:3]\n",
    "\n",
    "    # Now, we have all information set up and we can initialize the northing\n",
    "    # bias estimation class.\n",
    "    fsc = best.bias_estimation(\n",
    "        df=df,\n",
    "        df_fi_approx=df_approx,\n",
    "        test_turbines_subset=test_turbines,\n",
    "        df_ws_mapping_func=_set_ws_fun,\n",
    "        df_pow_ref_mapping_func=_set_pow_ref_fun,\n",
    "    )\n",
    "\n",
    "    # We can save the energy ratio curves for every iteration in the\n",
    "    # optimization process. This is useful for debugging. However, it also\n",
    "    # significantly slows down the estimation process. We disable it by\n",
    "    # default by assigning it 'None'.\n",
    "    plot_iter_path = None  # Disabled, useful for debugging but slow\n",
    "    # plot_iter_path = os.path.join(out_path, \"opt_iters_ti%03d\" % ti)\n",
    "\n",
    "    # Now estimate the wind direction bias while catching warning messages\n",
    "    # that do not really inform but do pollute the console.\n",
    "    with wn.catch_warnings():\n",
    "        wn.filterwarnings(action=\"ignore\", message=\"All-NaN slice encountered\")\n",
    "\n",
    "        # Estimate bias for the entire time range, from start to end of\n",
    "        # dataframe, for wind speeds in region II of turbine operation, with\n",
    "        # in steps of 3.0 deg (wd) and 5.0 m/s (ws). We search over the entire\n",
    "        # range from -180.0 deg to +180.0 deg, in steps of 5.0 deg. This has\n",
    "        # appeared to be a good stepsize empirically.\n",
    "        wd_bias, _ = fsc.estimate_wd_bias(\n",
    "            time_mask=None,  # For entire dataset\n",
    "            ws_mask=(6.0, 10.0),\n",
    "            er_wd_step=3.0,\n",
    "            er_ws_step=5.0,\n",
    "            er_wd_bin_width=3.0,\n",
    "            er_N_btstrp=1,\n",
    "            opt_search_brute_dx=5.0,\n",
    "            opt_search_range=opt_search_range,\n",
    "            plot_iter_path=plot_iter_path\n",
    "        )\n",
    "        wd_bias = float(wd_bias[0])  # Convert to float\n",
    "\n",
    "    # Print progress to console\n",
    "    print(\"Turbine {}. estimated bias = {} deg.\".format(ti, wd_bias))\n",
    "\n",
    "    if plot:\n",
    "        # Produce and save calibrated/corrected energy ratio figures\n",
    "        fsc.plot_energy_ratios(save_path=figure_save_path)\n",
    "        if figure_save_path is not None:\n",
    "            print(\"Calibrated energy ratio figures saved to {:s}.\".format(figure_save_path))\n",
    "\n",
    "    # Finally, return the estimated wind direction bias\n",
    "    return wd_bias\n",
    "\n",
    "\n",
    "# We will calibrate the turbine nacelle heading for the first 'clean' turbine\n",
    "first_clean_turbid = np.where([c == \"clean\" for c in turb_wd_consistency])[0][0]\n",
    "\n",
    "# Calculate optimal bias for the first clean turbine, covering all possibilities (from -180 deg to +180 deg offset)\n",
    "wd_bias = get_bias_for_single_turbine(\n",
    "    df=df_scada_marked_faulty_northing_drift,\n",
    "    fi=fi,\n",
    "    ti=first_clean_turbid,\n",
    "    opt_search_range=(-180.0, 180.0),\n",
    "    plot=True\n",
    ")\n",
    "print(\"WD bias for first clean turbine: {:.3f} deg\".format(wd_bias))\n",
    "\n",
    "# Now calculate the northing-bias-corrected wind direction for this turbine and call it our reference\n",
    "wd_ref = wrap_360(df_scada_marked_faulty_northing_drift[\"wd_{:03d}\".format(first_clean_turbid)] - wd_bias)"
   ]
  },
  {
   "attachments": {},
   "cell_type": "markdown",
   "metadata": {},
   "source": [
    "# **Step 4**: Estimate the biases of the remaining turbines\n",
    "Now that we know the wind direction bias of a single turbine, we roughly know where true north lies. What we can now do is simply calculate the average offset between the wind direction of any turbine and this northing-calibrated wind direction. The wind direction bias for that turbine is likely very close to this number. We use this as a first guess for the energy-ratio-based bias estimation, and optimize within +- 5 degrees within this initial value."
   ]
  },
  {
   "cell_type": "code",
   "execution_count": null,
   "metadata": {},
   "outputs": [],
   "source": [
    "def estimate_biases_with_reference_wd(df_scada, fi, wd_ref):\n",
    "    # Now use this knowledge to estimate bias for every turbine\n",
    "    num_turbines = len(fi.layout_x)\n",
    "    wd_bias_list = np.zeros(num_turbines)\n",
    "\n",
    "    for ti in range(num_turbines):\n",
    "        # Calculate the offset between this turbine's wind direction and that\n",
    "        # of the calibrated (reference) wind direction. Note that 'wd_ref' may\n",
    "        # also be a met mast' wind direction signal, if available. The offset\n",
    "        # between a turbine's wind direction and wd_ref is very likely to be\n",
    "        # the bias or close to the bias in this turbine's northing.\n",
    "        wd_test = df_scada[\"wd_{:03d}\".format(ti)]\n",
    "        x0, _ = flopt.match_y_curves_by_offset(\n",
    "            wd_ref,\n",
    "            wd_test,\n",
    "            dy_eval=np.arange(-180.0, 180.0, 2.0),\n",
    "            angle_wrapping=True\n",
    "        )\n",
    "\n",
    "        # Then, we refine this first guess by evaluating the cost function\n",
    "        # at [-5.0, 0.0, 5.0] deg around x0, and let the optimizer\n",
    "        # converge.\n",
    "        x_search_bounds = np.round(x0) + np.array([-5.0, 5.0])\n",
    "\n",
    "        # Calculate and save the results to a list\n",
    "        wd_bias_list[ti] = get_bias_for_single_turbine(\n",
    "            df=df_scada,\n",
    "            fi=fi,\n",
    "            ti=ti,\n",
    "            opt_search_range=x_search_bounds,\n",
    "            plot=True,\n",
    "            figure_save_path=None,\n",
    "        )\n",
    "        print(\" \")\n",
    "\n",
    "    return wd_bias_list\n",
    "\n",
    "wd_bias_list = estimate_biases_with_reference_wd(df_scada_marked_faulty_northing_drift, fi, wd_ref)\n",
    "print(\"Wind direction biases: {}\".format(wd_bias_list))\n"
   ]
  },
  {
   "attachments": {},
   "cell_type": "markdown",
   "metadata": {},
   "source": [
    "# **Step 5**: Correct turbine wind directions for bias\n",
    "The next step is to apply the northing corrections directly on the data."
   ]
  },
  {
   "cell_type": "code",
   "execution_count": null,
   "metadata": {},
   "outputs": [],
   "source": [
    "def apply_bias_corrections(df_scada, wd_bias_list):\n",
    "    # Copy dataframe\n",
    "    df_out = df_scada.copy()\n",
    "\n",
    "    # Load the SCADA data\n",
    "    num_turbines = dfm.get_num_turbines(df_scada)\n",
    "\n",
    "    # Set turbine-individual bias corrections\n",
    "    for ti in range(num_turbines):\n",
    "        bias = wd_bias_list[ti]\n",
    "        print(\"Removing {:.2f} deg bias for ti = {:03d}.\".format(bias, ti))\n",
    "        df_out[\"wd_{:03d}\".format(ti)] = wrap_360(df_out[\"wd_{:03d}\".format(ti)] - bias)\n",
    "\n",
    "    return df_out\n",
    "\n",
    "\n",
    "# Get bias corrections\n",
    "print(\"wd_bias_list: {}\".format(wd_bias_list))\n",
    "df_scada_northing_calibrated = apply_bias_corrections(\n",
    "    df_scada=df_scada_marked_faulty_northing_drift.copy(),\n",
    "    wd_bias_list=wd_bias_list\n",
    ")\n"
   ]
  },
  {
   "attachments": {},
   "cell_type": "markdown",
   "metadata": {},
   "source": [
    "# **Step 6**: Deal with inter-turbine faults\n",
    "Deal with faults at one turbine causing issues at another turbine. For example, if a turbine is shedding a wake on a second turbine, then for a fair comparison both of these two turbines should be operating normally. If the upstream turbine is curtailed or offline, the power production of the downstream turbine also changes. Hence, if we are unsure about the operating mode of one machine, we cannot make accurate FLORIS predictions on the second turbine either. In this scenario, we would classify the second turbine's measurement as faulty too, because of this."
   ]
  },
  {
   "cell_type": "code",
   "execution_count": null,
   "metadata": {},
   "outputs": [],
   "source": [
    "def filter_for_faults_in_impacting_turbines(df):\n",
    "    # Determine which turbines impact which other turbines through their wakes\n",
    "    print(\"Calculating the 'df_impacting_turbines' matrix...\")\n",
    "    df_impacting_turbines = ftools.get_all_impacting_turbines(\n",
    "        fi_in=fi,\n",
    "        wd_array=np.arange(0.0, 360.0, 3.0),\n",
    "        change_threshold=0.005,\n",
    "        ws_test=9.0,\n",
    "    )\n",
    "    print(df_impacting_turbines)\n",
    "\n",
    "    # Filter the measurements for each turbine: make sure all other turbines affecting this turbine's\n",
    "    # power production are marked as good measurements. If they are not, then classify this turbine's\n",
    "    # measurement as faulty too.\n",
    "    num_turbines = dfm.get_num_turbines(df)\n",
    "    for ti in range(num_turbines):\n",
    "        # Assign a reference wind direction for this turbine. In this case,\n",
    "        # we have such a small farm so we assume that the farm average wind\n",
    "        # direction of representative of every turbine.\n",
    "        df = dfm.set_wd_by_all_turbines(df)\n",
    "\n",
    "        df_scada = dff.filter_df_by_faulty_impacting_turbines(\n",
    "            df=df,\n",
    "            ti=ti,\n",
    "            df_impacting_turbines=df_impacting_turbines,\n",
    "            verbose=True,\n",
    "        )\n",
    "    \n",
    "    return df_scada\n",
    "\n",
    "df_scada_northing_calibrated_interturbine_filtered = filter_for_faults_in_impacting_turbines(\n",
    "    df=df_scada_northing_calibrated.copy()\n",
    ")"
   ]
  },
  {
   "attachments": {},
   "cell_type": "markdown",
   "metadata": {},
   "source": [
    "# **Step 7**: Save the processed data\n",
    "We save the bias-corrected dataframe to our local path folder for then to use in further data analysis, e.g., model validation, wake loss estimation, turbine monitoring."
   ]
  },
  {
   "cell_type": "code",
   "execution_count": null,
   "metadata": {},
   "outputs": [],
   "source": [
    "# Save the dataframe with corrected wind directions\n",
    "print(\"Saving dataframes as .ftr files\")\n",
    "fout = os.path.join(root_path, \"postprocessed\", \"df_scada_data_600s_filtered_and_northing_calibrated.ftr\")\n",
    "df_scada_northing_calibrated_interturbine_filtered.to_feather(fout)\n",
    "print(\"Finished processing. Saved the df as '{:s}'.\".format(os.path.relpath(fout)))"
   ]
  },
  {
   "cell_type": "code",
   "execution_count": null,
   "metadata": {},
   "outputs": [],
   "source": [
    "# Print all (remaining) figures\n",
    "plt.show()"
   ]
  }
 ],
 "metadata": {
  "kernelspec": {
   "display_name": ".floris",
   "language": "python",
   "name": "python3"
  },
  "language_info": {
   "codemirror_mode": {
    "name": "ipython",
    "version": 3
   },
   "file_extension": ".py",
   "mimetype": "text/x-python",
   "name": "python",
   "nbconvert_exporter": "python",
   "pygments_lexer": "ipython3",
   "version": "3.11.3"
  },
  "orig_nbformat": 4,
  "vscode": {
   "interpreter": {
    "hash": "8f733c0fbb301080c2bcf96db7ac54d1ef0d7be04117d635d35c165c40504989"
   }
  }
 },
 "nbformat": 4,
 "nbformat_minor": 2
}
