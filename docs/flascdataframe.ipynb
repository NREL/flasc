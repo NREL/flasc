{
 "cells": [
  {
   "cell_type": "markdown",
   "metadata": {},
   "source": [
    "# FlascDataFrame"
   ]
  },
  {
   "cell_type": "markdown",
   "metadata": {},
   "source": [
    "FLASC has historically used a `pandas.DataFrame` to store the data to be processed.  Beginning in version 2.1, the `FlascDataFrame` class was introduced to provide additional methods and functionality to the data.  `FlascDataFrame` is a subclass of `pandas.DataFrame` and can be used in place of a `pandas.DataFrame`.  This notebook provides an overview of the `FlascDataFrame` class and its methods.  Support is added for converting between \"flasc\" style data formatting and \"user\" formats"
   ]
  },
  {
   "cell_type": "markdown",
   "metadata": {},
   "source": [
    "## FlascFormat"
   ]
  },
  {
   "cell_type": "markdown",
   "metadata": {},
   "source": [
    "FlascFormat of a dataframe where columns appear according to a certain convention:\n",
    "\n",
    "- `time` represents the time, preferably in UTC\n",
    "-  turbines are sequentially numbered, starting from 0, numbers are always 3 digits long\n",
    "-  `pow_000` represents the power output of turbine 0\n",
    "-  `ws_000` represents the wind speed at turbine 0\n",
    "-  `wd_000` represents the wind direction at turbine 0\n",
    "-  `wd` represents the wind direction chosen for example to represent the overall inflow direction\n",
    "-  `ws` represents the wind speed chosen for example to represent the overall inflow speed\n",
    "-  `pow_ref` represents the power output of the reference turbine (or average of reference turbines)\n",
    "-  `pow_test` represents the power output of the test turbine (or average of test turbines)"
   ]
  },
  {
   "cell_type": "code",
   "execution_count": 22,
   "metadata": {},
   "outputs": [],
   "source": [
    "# A dataframe to used in flasc initialized as a normal pandas dataframe\n",
    "import pandas as pd\n",
    "\n",
    "# This dataframe could be used for flasc functions\n",
    "df = pd.DataFrame(\n",
    "    {\n",
    "        \"time\": [0, 1, 2, 3, 4, 5],\n",
    "        \"pow_000\": [100, 100, 100, 100, 100, 100],\n",
    "        \"pow_001\": [100, 100, 100, 100, 100, 100],\n",
    "        \"ws_000\": [10, 10, 10, 10, 10, 10],\n",
    "        \"ws_001\": [10, 10, 10, 10, 10, 10],\n",
    "        \"wd_000\": [270, 270, 270, 270, 270, 270],\n",
    "        \"wd_001\": [270, 270, 270, 270, 270, 270],\n",
    "    }\n",
    ")"
   ]
  },
  {
   "cell_type": "markdown",
   "metadata": {},
   "source": [
    "## Using FlascDataFrame"
   ]
  },
  {
   "cell_type": "code",
   "execution_count": 23,
   "metadata": {},
   "outputs": [
    {
     "name": "stdout",
     "output_type": "stream",
     "text": [
      "FlascDataFrame in FLASC format\n",
      "   time  pow_000  pow_001  ws_000  ws_001  wd_000  wd_001\n",
      "0     0      100      100      10      10     270     270\n",
      "1     1      100      100      10      10     270     270\n",
      "2     2      100      100      10      10     270     270\n",
      "3     3      100      100      10      10     270     270\n",
      "4     4      100      100      10      10     270     270\n"
     ]
    }
   ],
   "source": [
    "# The above dataframe could be converted to a FlascDataFrame directly\n",
    "from flasc import FlascDataFrame\n",
    "\n",
    "fdf = FlascDataFrame(df)\n",
    "print(fdf.head())"
   ]
  },
  {
   "cell_type": "code",
   "execution_count": 24,
   "metadata": {},
   "outputs": [
    {
     "data": {
      "text/plain": [
       "2"
      ]
     },
     "execution_count": 24,
     "metadata": {},
     "output_type": "execute_result"
    }
   ],
   "source": [
    "# The FlascDataFrame includes a few helper functions added to the base pandas dataframe\n",
    "fdf.n_turbines"
   ]
  },
  {
   "cell_type": "markdown",
   "metadata": {},
   "source": [
    "## Creating a FlascDataFrame from User Data"
   ]
  },
  {
   "cell_type": "markdown",
   "metadata": {},
   "source": [
    "More value from a FlascDataFrame is obtained when using it convert back and forth between user-formatted data and Flasc Data.  "
   ]
  },
  {
   "cell_type": "code",
   "execution_count": 25,
   "metadata": {},
   "outputs": [],
   "source": [
    "import numpy as np\n",
    "\n",
    "# Suppose the we have a 3 turbine farm with turbines names 'TB01', 'TB02', 'TB03'\n",
    "# For each turbine we have power, wind speed and wind direction data\n",
    "# Assume that in the native data collection system,\n",
    "# the signal names for each channel are given below\n",
    "\n",
    "N = 20  # Number of data points\n",
    "\n",
    "# Wind speeds\n",
    "wind_speed_TB01 = np.random.rand(N) + 8.0\n",
    "wind_speed_TB02 = np.random.rand(N) + 7.5\n",
    "wind_speed_TB03 = np.random.rand(N) + 8.5\n",
    "\n",
    "# Wind directions\n",
    "wind_dir_TB01 = 10 * np.random.rand(N) + 270.0\n",
    "wind_dir_TB02 = 10 * np.random.rand(N) + 270.0\n",
    "wind_dir_TB03 = 10 * np.random.rand(N) + 270.0\n",
    "\n",
    "# Power\n",
    "power_TB01 = wind_speed_TB01**3\n",
    "power_TB02 = wind_speed_TB02**3\n",
    "power_TB03 = wind_speed_TB03**3\n",
    "\n",
    "# Time\n",
    "time = np.arange(N)"
   ]
  },
  {
   "cell_type": "code",
   "execution_count": 39,
   "metadata": {},
   "outputs": [],
   "source": [
    "# Add this data to a pandas dataframe\n",
    "df = pd.DataFrame(\n",
    "    {\n",
    "        \"time\": time,\n",
    "        \"wind_speed_TB01\": wind_speed_TB01,\n",
    "        \"wind_speed_TB02\": wind_speed_TB02,\n",
    "        \"wind_speed_TB03\": wind_speed_TB03,\n",
    "        \"wind_dir_TB01\": wind_dir_TB01,\n",
    "        \"wind_dir_TB02\": wind_dir_TB02,\n",
    "        \"wind_dir_TB03\": wind_dir_TB03,\n",
    "        \"power_TB01\": power_TB01,\n",
    "        \"power_TB02\": power_TB02,\n",
    "        \"power_TB03\": power_TB03,\n",
    "    }\n",
    ")"
   ]
  },
  {
   "cell_type": "markdown",
   "metadata": {},
   "source": [
    "The data is currently stored using the the channel and turbine names of the user, by supplying additional metadata to the FlascDataFrame, the data can be converted to and from the FlascFormat.  "
   ]
  },
  {
   "cell_type": "code",
   "execution_count": 40,
   "metadata": {},
   "outputs": [],
   "source": [
    "# Declare a name_map dictionary to map the signal names to the turbine names.\n",
    "# The turbine numbers when 0-indexed in FLASC format should\n",
    "# align with their numbering in the FLORIS model of the same farm.\n",
    "channel_name_map = {\n",
    "    \"time\": \"time\",\n",
    "    \"wind_speed_TB01\": \"ws_000\",\n",
    "    \"wind_speed_TB02\": \"ws_001\",\n",
    "    \"wind_speed_TB03\": \"ws_002\",\n",
    "    \"wind_dir_TB01\": \"wd_000\",\n",
    "    \"wind_dir_TB02\": \"wd_001\",\n",
    "    \"wind_dir_TB03\": \"wd_002\",\n",
    "    \"power_TB01\": \"pow_000\",\n",
    "    \"power_TB02\": \"pow_001\",\n",
    "    \"power_TB03\": \"pow_002\",\n",
    "}"
   ]
  },
  {
   "cell_type": "code",
   "execution_count": 43,
   "metadata": {},
   "outputs": [
    {
     "name": "stdout",
     "output_type": "stream",
     "text": [
      "FlascDataFrame in user (wide) format\n",
      "   time  wind_speed_TB01  wind_speed_TB02  wind_speed_TB03  wind_dir_TB01  \\\n",
      "0     0         8.112750         8.402828         8.596124     272.557566   \n",
      "1     1         8.276103         7.651271         9.360673     274.498764   \n",
      "2     2         8.767538         7.900008         9.028346     271.337235   \n",
      "3     3         8.276872         8.208943         8.911937     277.227258   \n",
      "4     4         8.828375         8.039787         8.925044     278.484343   \n",
      "\n",
      "   wind_dir_TB02  wind_dir_TB03  power_TB01  power_TB02  power_TB03  \n",
      "0     271.263082     276.458594  533.954502  593.302928  635.196362  \n",
      "1     279.425298     272.171584  566.862317  447.920293  820.202867  \n",
      "2     275.176022     273.955338  673.958144  493.040519  735.909803  \n",
      "3     277.600801     279.706961  567.020466  553.173872  707.809508  \n",
      "4     270.516648     277.232803  688.085250  519.677149  710.936856  \n"
     ]
    },
    {
     "name": "stderr",
     "output_type": "stream",
     "text": [
      "/Users/pfleming/Projects/FLASC/flasc/flasc/flasc_dataframe.py:57: UserWarning: Pandas doesn't allow columns to be created via a new attribute name - see https://pandas.pydata.org/pandas-docs/stable/indexing.html#attribute-access\n",
      "  self.channel_name_map = channel_name_map\n"
     ]
    }
   ],
   "source": [
    "## Declare an instance of FlascDataFrame\n",
    "fdf = FlascDataFrame(df, channel_name_map=channel_name_map)\n",
    "print(fdf.head())"
   ]
  },
  {
   "cell_type": "code",
   "execution_count": 45,
   "metadata": {},
   "outputs": [
    {
     "name": "stdout",
     "output_type": "stream",
     "text": [
      "FlascDataFrame in FLASC format\n",
      "   time    ws_000    ws_001    ws_002      wd_000      wd_001      wd_002  \\\n",
      "0     0  8.112750  8.402828  8.596124  272.557566  271.263082  276.458594   \n",
      "1     1  8.276103  7.651271  9.360673  274.498764  279.425298  272.171584   \n",
      "2     2  8.767538  7.900008  9.028346  271.337235  275.176022  273.955338   \n",
      "3     3  8.276872  8.208943  8.911937  277.227258  277.600801  279.706961   \n",
      "4     4  8.828375  8.039787  8.925044  278.484343  270.516648  277.232803   \n",
      "\n",
      "      pow_000     pow_001     pow_002  \n",
      "0  533.954502  593.302928  635.196362  \n",
      "1  566.862317  447.920293  820.202867  \n",
      "2  673.958144  493.040519  735.909803  \n",
      "3  567.020466  553.173872  707.809508  \n",
      "4  688.085250  519.677149  710.936856  \n"
     ]
    }
   ],
   "source": [
    "# Convert now into flasc format\n",
    "fdf_flasc = fdf.convert_to_flasc_format()\n",
    "print(fdf_flasc.head())"
   ]
  },
  {
   "cell_type": "code",
   "execution_count": null,
   "metadata": {},
   "outputs": [],
   "source": []
  },
  {
   "cell_type": "markdown",
   "metadata": {},
   "source": []
  }
 ],
 "metadata": {
  "kernelspec": {
   "display_name": ".venv",
   "language": "python",
   "name": "python3"
  },
  "language_info": {
   "codemirror_mode": {
    "name": "ipython",
    "version": 3
   },
   "file_extension": ".py",
   "mimetype": "text/x-python",
   "name": "python",
   "nbconvert_exporter": "python",
   "pygments_lexer": "ipython3",
   "version": "3.10.15"
  }
 },
 "nbformat": 4,
 "nbformat_minor": 2
}
