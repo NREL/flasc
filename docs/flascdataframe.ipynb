{
 "cells": [
  {
   "cell_type": "markdown",
   "metadata": {},
   "source": [
    "# FlascDataFrame"
   ]
  },
  {
   "cell_type": "markdown",
   "metadata": {},
   "source": [
    "FLASC has historically used a `pandas.DataFrame` to store the data to be processed.  Beginning in version 2.1, the `FlascDataFrame` class was introduced to provide additional methods and functionality to the data.  `FlascDataFrame` is a subclass of `pandas.DataFrame` and can be used in place of a `pandas.DataFrame`.  This notebook provides an overview of the `FlascDataFrame` class and its methods.  Support is added for converting between \"flasc\" style data formatting and \"user\" formats"
   ]
  },
  {
   "cell_type": "markdown",
   "metadata": {},
   "source": [
    "## FlascFormat"
   ]
  },
  {
   "cell_type": "markdown",
   "metadata": {},
   "source": [
    "FlascFormat of a dataframe where columns appear according to a certain convention:\n",
    "\n",
    "- `time` represents the time, preferably in UTC\n",
    "-  turbines are sequentially numbered, starting from 0, numbers are always 3 digits long\n",
    "-  `pow_000` represents the power output of turbine 0\n",
    "-  `ws_000` represents the wind speed at turbine 0\n",
    "-  `wd_000` represents the wind direction at turbine 0\n",
    "-  `wd` represents the wind direction chosen for example to represent the overall inflow direction\n",
    "-  `ws` represents the wind speed chosen for example to represent the overall inflow speed\n",
    "-  `pow_ref` represents the power output of the reference turbine (or average of reference turbines)\n",
    "-  `pow_test` represents the power output of the test turbine (or average of test turbines)"
   ]
  },
  {
   "cell_type": "code",
   "execution_count": 1,
   "metadata": {},
   "outputs": [],
   "source": [
    "# A dataframe to used in flasc initialized as a normal pandas dataframe\n",
    "import pandas as pd\n",
    "\n",
    "# This dataframe could be used for flasc functions\n",
    "df = pd.DataFrame(\n",
    "    {\n",
    "        \"time\": [0, 1, 2, 3, 4, 5],\n",
    "        \"pow_000\": [100, 100, 100, 100, 100, 100],\n",
    "        \"pow_001\": [100, 100, 100, 100, 100, 100],\n",
    "        \"ws_000\": [10, 10, 10, 10, 10, 10],\n",
    "        \"ws_001\": [10, 10, 10, 10, 10, 10],\n",
    "        \"wd_000\": [270, 270, 270, 270, 270, 270],\n",
    "        \"wd_001\": [270, 270, 270, 270, 270, 270],\n",
    "    }\n",
    ")"
   ]
  },
  {
   "cell_type": "markdown",
   "metadata": {},
   "source": [
    "## Using FlascDataFrame"
   ]
  },
  {
   "cell_type": "code",
   "execution_count": 2,
   "metadata": {},
   "outputs": [
    {
     "name": "stdout",
     "output_type": "stream",
     "text": [
      "FlascDataFrame in FLASC format\n",
      "   time  pow_000  pow_001  ws_000  ws_001  wd_000  wd_001\n",
      "0     0      100      100      10      10     270     270\n",
      "1     1      100      100      10      10     270     270\n",
      "2     2      100      100      10      10     270     270\n",
      "3     3      100      100      10      10     270     270\n",
      "4     4      100      100      10      10     270     270\n"
     ]
    }
   ],
   "source": [
    "# The above dataframe could be converted to a FlascDataFrame directly\n",
    "from flasc import FlascDataFrame\n",
    "\n",
    "fdf = FlascDataFrame(df)\n",
    "print(fdf.head())"
   ]
  },
  {
   "cell_type": "code",
   "execution_count": 3,
   "metadata": {},
   "outputs": [
    {
     "data": {
      "text/plain": [
       "2"
      ]
     },
     "execution_count": 3,
     "metadata": {},
     "output_type": "execute_result"
    }
   ],
   "source": [
    "# The FlascDataFrame includes a few helper functions added to the base pandas dataframe\n",
    "fdf.n_turbines"
   ]
  },
  {
   "cell_type": "markdown",
   "metadata": {},
   "source": [
    "## Creating a FlascDataFrame from User Data"
   ]
  },
  {
   "cell_type": "markdown",
   "metadata": {},
   "source": [
    "More value from a FlascDataFrame is obtained when using it convert back and forth between user-formatted data and Flasc Data.  "
   ]
  },
  {
   "cell_type": "code",
   "execution_count": 4,
   "metadata": {},
   "outputs": [],
   "source": [
    "import numpy as np\n",
    "\n",
    "# Suppose the we have a 3 turbine farm with turbines names 'TB01', 'TB02', 'TB03'\n",
    "# For each turbine we have power, wind speed and wind direction data\n",
    "# Assume that in the native data collection system,\n",
    "# the signal names for each channel are given below\n",
    "\n",
    "N = 20  # Number of data points\n",
    "\n",
    "# Wind speeds\n",
    "wind_speed_TB01 = np.random.rand(N) + 8.0\n",
    "wind_speed_TB02 = np.random.rand(N) + 7.5\n",
    "wind_speed_TB03 = np.random.rand(N) + 8.5\n",
    "\n",
    "# Wind directions\n",
    "wind_dir_TB01 = 10 * np.random.rand(N) + 270.0\n",
    "wind_dir_TB02 = 10 * np.random.rand(N) + 270.0\n",
    "wind_dir_TB03 = 10 * np.random.rand(N) + 270.0\n",
    "\n",
    "# Power\n",
    "power_TB01 = wind_speed_TB01**3\n",
    "power_TB02 = wind_speed_TB02**3\n",
    "power_TB03 = wind_speed_TB03**3\n",
    "\n",
    "# Time\n",
    "time = np.arange(N)"
   ]
  },
  {
   "cell_type": "code",
   "execution_count": 5,
   "metadata": {},
   "outputs": [],
   "source": [
    "# Add this data to a pandas dataframe\n",
    "df = pd.DataFrame(\n",
    "    {\n",
    "        \"time\": time,\n",
    "        \"wind_speed_TB01\": wind_speed_TB01,\n",
    "        \"wind_speed_TB02\": wind_speed_TB02,\n",
    "        \"wind_speed_TB03\": wind_speed_TB03,\n",
    "        \"wind_dir_TB01\": wind_dir_TB01,\n",
    "        \"wind_dir_TB02\": wind_dir_TB02,\n",
    "        \"wind_dir_TB03\": wind_dir_TB03,\n",
    "        \"power_TB01\": power_TB01,\n",
    "        \"power_TB02\": power_TB02,\n",
    "        \"power_TB03\": power_TB03,\n",
    "    }\n",
    ")"
   ]
  },
  {
   "cell_type": "markdown",
   "metadata": {},
   "source": [
    "The data is currently stored using the the channel and turbine names of the user, by supplying additional metadata to the FlascDataFrame, the data can be converted to and from the FlascFormat.  "
   ]
  },
  {
   "cell_type": "code",
   "execution_count": 6,
   "metadata": {},
   "outputs": [],
   "source": [
    "# Declare a name_map dictionary to map the signal names to the turbine names.\n",
    "# The turbine numbers when 0-indexed in FLASC format should\n",
    "# align with their numbering in the FLORIS model of the same farm.\n",
    "channel_name_map = {\n",
    "    \"time\": \"time\",\n",
    "    \"wind_speed_TB01\": \"ws_000\",\n",
    "    \"wind_speed_TB02\": \"ws_001\",\n",
    "    \"wind_speed_TB03\": \"ws_002\",\n",
    "    \"wind_dir_TB01\": \"wd_000\",\n",
    "    \"wind_dir_TB02\": \"wd_001\",\n",
    "    \"wind_dir_TB03\": \"wd_002\",\n",
    "    \"power_TB01\": \"pow_000\",\n",
    "    \"power_TB02\": \"pow_001\",\n",
    "    \"power_TB03\": \"pow_002\",\n",
    "}"
   ]
  },
  {
   "cell_type": "code",
   "execution_count": 7,
   "metadata": {},
   "outputs": [
    {
     "name": "stdout",
     "output_type": "stream",
     "text": [
      "FlascDataFrame in user (wide) format\n",
      "   time  wind_speed_TB01  wind_speed_TB02  wind_speed_TB03  wind_dir_TB01  \\\n",
      "0     0         8.463413         7.863936         8.776576     278.626071   \n",
      "1     1         8.711924         8.330972         8.974587     273.507583   \n",
      "2     2         8.748676         7.875490         9.253844     276.095074   \n",
      "3     3         8.849804         8.470775         9.172530     275.670068   \n",
      "4     4         8.931129         8.295958         8.535815     271.398405   \n",
      "\n",
      "   wind_dir_TB02  wind_dir_TB03  power_TB01  power_TB02  power_TB03  \n",
      "0     272.173679     270.231054  606.228762  486.317571  676.044609  \n",
      "1     278.969616     273.886149  661.214183  578.211855  722.842070  \n",
      "2     275.958102     279.953554  669.617729  488.464150  792.440237  \n",
      "3     272.821422     278.974526  693.108030  607.812130  771.733565  \n",
      "4     277.497031     279.340766  712.392037  570.952022  621.920747  \n"
     ]
    },
    {
     "name": "stderr",
     "output_type": "stream",
     "text": [
      "/Users/pfleming/Projects/FLASC/flasc/flasc/flasc_dataframe.py:57: UserWarning: Pandas doesn't allow columns to be created via a new attribute name - see https://pandas.pydata.org/pandas-docs/stable/indexing.html#attribute-access\n",
      "  self.channel_name_map = channel_name_map\n"
     ]
    }
   ],
   "source": [
    "## Declare an instance of FlascDataFrame\n",
    "fdf = FlascDataFrame(df, channel_name_map=channel_name_map)\n",
    "print(fdf.head())"
   ]
  },
  {
   "cell_type": "code",
   "execution_count": 8,
   "metadata": {},
   "outputs": [
    {
     "name": "stdout",
     "output_type": "stream",
     "text": [
      "FlascDataFrame in FLASC format\n",
      "   time    ws_000    ws_001    ws_002      wd_000      wd_001      wd_002  \\\n",
      "0     0  8.463413  7.863936  8.776576  278.626071  272.173679  270.231054   \n",
      "1     1  8.711924  8.330972  8.974587  273.507583  278.969616  273.886149   \n",
      "2     2  8.748676  7.875490  9.253844  276.095074  275.958102  279.953554   \n",
      "3     3  8.849804  8.470775  9.172530  275.670068  272.821422  278.974526   \n",
      "4     4  8.931129  8.295958  8.535815  271.398405  277.497031  279.340766   \n",
      "\n",
      "      pow_000     pow_001     pow_002  \n",
      "0  606.228762  486.317571  676.044609  \n",
      "1  661.214183  578.211855  722.842070  \n",
      "2  669.617729  488.464150  792.440237  \n",
      "3  693.108030  607.812130  771.733565  \n",
      "4  712.392037  570.952022  621.920747  \n"
     ]
    }
   ],
   "source": [
    "# Convert now into flasc format\n",
    "fdf_flasc = fdf.convert_to_flasc_format()\n",
    "print(fdf_flasc.head())"
   ]
  },
  {
   "cell_type": "markdown",
   "metadata": {},
   "source": [
    "## Converting Wide and Long"
   ]
  },
  {
   "cell_type": "markdown",
   "metadata": {},
   "source": [
    "FlascDataFrame also provides methods to convert between wide and long formats.  FlascFormat is always \"wide\", that is each channel has it's own column.  But `FlascDataFrame` can be used\n",
    "to convert to a user format that is \"long\" where each channel is a row in the dataframe.  "
   ]
  },
  {
   "cell_type": "code",
   "execution_count": 12,
   "metadata": {},
   "outputs": [
    {
     "name": "stdout",
     "output_type": "stream",
     "text": [
      "   time          channel     value\n",
      "0     0  wind_speed_TB01  8.463413\n",
      "1     1  wind_speed_TB01  8.711924\n",
      "2     2  wind_speed_TB01  8.748676\n",
      "3     3  wind_speed_TB01  8.849804\n",
      "4     4  wind_speed_TB01  8.931129\n",
      "     time     channel       value\n",
      "175    15  power_TB03  747.868257\n",
      "176    16  power_TB03  804.574705\n",
      "177    17  power_TB03  645.420723\n",
      "178    18  power_TB03  726.957312\n",
      "179    19  power_TB03  805.571713\n"
     ]
    }
   ],
   "source": [
    "# Convert the user data into a long format\n",
    "df = pd.DataFrame(\n",
    "    {\n",
    "        \"time\": time,\n",
    "        \"wind_speed_TB01\": wind_speed_TB01,\n",
    "        \"wind_speed_TB02\": wind_speed_TB02,\n",
    "        \"wind_speed_TB03\": wind_speed_TB03,\n",
    "        \"wind_dir_TB01\": wind_dir_TB01,\n",
    "        \"wind_dir_TB02\": wind_dir_TB02,\n",
    "        \"wind_dir_TB03\": wind_dir_TB03,\n",
    "        \"power_TB01\": power_TB01,\n",
    "        \"power_TB02\": power_TB02,\n",
    "        \"power_TB03\": power_TB03,\n",
    "    }\n",
    ")\n",
    "\n",
    "df = pd.melt(df, id_vars=[\"time\"], var_name=\"channel\", value_name=\"value\")\n",
    "print(df.head())\n",
    "print(df.tail())"
   ]
  },
  {
   "cell_type": "code",
   "execution_count": 14,
   "metadata": {},
   "outputs": [
    {
     "name": "stderr",
     "output_type": "stream",
     "text": [
      "/Users/pfleming/Projects/FLASC/flasc/flasc/flasc_dataframe.py:57: UserWarning: Pandas doesn't allow columns to be created via a new attribute name - see https://pandas.pydata.org/pandas-docs/stable/indexing.html#attribute-access\n",
      "  self.channel_name_map = channel_name_map\n"
     ]
    }
   ],
   "source": [
    "# This time include in the specification of the FlascDataFrame the name of the\n",
    "# columns of the long data\n",
    "fdf = FlascDataFrame(\n",
    "    df,\n",
    "    channel_name_map=channel_name_map,\n",
    "    long_data_columns={\"variable_column\": \"channel\", \"value_column\": \"value\"},\n",
    ")"
   ]
  },
  {
   "cell_type": "code",
   "execution_count": 15,
   "metadata": {},
   "outputs": [
    {
     "name": "stdout",
     "output_type": "stream",
     "text": [
      "FlascDataFrame in user (long) format\n",
      "   time          channel     value\n",
      "0     0  wind_speed_TB01  8.463413\n",
      "1     1  wind_speed_TB01  8.711924\n",
      "2     2  wind_speed_TB01  8.748676\n",
      "3     3  wind_speed_TB01  8.849804\n",
      "4     4  wind_speed_TB01  8.931129\n"
     ]
    }
   ],
   "source": [
    "print(fdf.head())"
   ]
  },
  {
   "cell_type": "code",
   "execution_count": 16,
   "metadata": {},
   "outputs": [
    {
     "name": "stdout",
     "output_type": "stream",
     "text": [
      "FlascDataFrame in FLASC format\n",
      "   time     pow_000     pow_001     pow_002      wd_000      wd_001  \\\n",
      "0     0  606.228762  486.317571  676.044609  278.626071  272.173679   \n",
      "1     1  661.214183  578.211855  722.842070  273.507583  278.969616   \n",
      "2     2  669.617729  488.464150  792.440237  276.095074  275.958102   \n",
      "3     3  693.108030  607.812130  771.733565  275.670068  272.821422   \n",
      "4     4  712.392037  570.952022  621.920747  271.398405  277.497031   \n",
      "\n",
      "       wd_002    ws_000    ws_001    ws_002  \n",
      "0  270.231054  8.463413  7.863936  8.776576  \n",
      "1  273.886149  8.711924  8.330972  8.974587  \n",
      "2  279.953554  8.748676  7.875490  9.253844  \n",
      "3  278.974526  8.849804  8.470775  9.172530  \n",
      "4  279.340766  8.931129  8.295958  8.535815  \n"
     ]
    },
    {
     "name": "stderr",
     "output_type": "stream",
     "text": [
      "/Users/pfleming/Projects/FLASC/flasc/flasc/flasc_dataframe.py:57: UserWarning: Pandas doesn't allow columns to be created via a new attribute name - see https://pandas.pydata.org/pandas-docs/stable/indexing.html#attribute-access\n",
      "  self.channel_name_map = channel_name_map\n"
     ]
    }
   ],
   "source": [
    "print(fdf.convert_to_flasc_format().head())"
   ]
  },
  {
   "cell_type": "markdown",
   "metadata": {},
   "source": [
    "## Converting to wind-up format"
   ]
  },
  {
   "cell_type": "markdown",
   "metadata": {},
   "source": [
    "A final use case for `FlascDataFrame` is to convert the data into the \"wind-up\" format.  [Wind-up](https://github.com/resgroup/wind-up) is an open source tool for assessing uplift provided by RES.  This conversion  provides a convenient way to assess the data, in the case of uplift assessment, using the wind-up tool, which is imported by FLASC.  A full demonstration of the usage of the wind-up tool in FLASC is provided within the [Smarteole](https://github.com/NREL/flasc/tree/main/examples_smarteole) example set."
   ]
  },
  {
   "cell_type": "code",
   "execution_count": 18,
   "metadata": {},
   "outputs": [
    {
     "name": "stdout",
     "output_type": "stream",
     "text": [
      "                       raw_ActivePowerMean  raw_YawAngleMean  \\\n",
      "TimeStamp_StartFormat                                          \n",
      "0                               606.228762        278.626071   \n",
      "1                               661.214183        273.507583   \n",
      "2                               669.617729        276.095074   \n",
      "3                               693.108030        275.670068   \n",
      "4                               712.392037        271.398405   \n",
      "\n",
      "                       raw_WindSpeedMean TurbineName  PitchAngleMean  \\\n",
      "TimeStamp_StartFormat                                                  \n",
      "0                               8.463413         000               0   \n",
      "1                               8.711924         000               0   \n",
      "2                               8.748676         000               0   \n",
      "3                               8.849804         000               0   \n",
      "4                               8.931129         000               0   \n",
      "\n",
      "                       GenRpmMean  raw_ShutdownDuration  ActivePowerMean  \\\n",
      "TimeStamp_StartFormat                                                      \n",
      "0                            1000                     0       606.228762   \n",
      "1                            1000                     0       661.214183   \n",
      "2                            1000                     0       669.617729   \n",
      "3                            1000                     0       693.108030   \n",
      "4                            1000                     0       712.392037   \n",
      "\n",
      "                       WindSpeedMean  YawAngleMean  ShutdownDuration  \n",
      "TimeStamp_StartFormat                                                 \n",
      "0                           8.463413    278.626071                 0  \n",
      "1                           8.711924    273.507583                 0  \n",
      "2                           8.748676    276.095074                 0  \n",
      "3                           8.849804    275.670068                 0  \n",
      "4                           8.931129    271.398405                 0  \n"
     ]
    },
    {
     "name": "stderr",
     "output_type": "stream",
     "text": [
      "/Users/pfleming/Projects/FLASC/flasc/flasc/flasc_dataframe.py:57: UserWarning: Pandas doesn't allow columns to be created via a new attribute name - see https://pandas.pydata.org/pandas-docs/stable/indexing.html#attribute-access\n",
      "  self.channel_name_map = channel_name_map\n"
     ]
    }
   ],
   "source": [
    "fdf = fdf.convert_to_flasc_format()\n",
    "print(fdf.convert_to_windup_format().head())"
   ]
  }
 ],
 "metadata": {
  "kernelspec": {
   "display_name": ".venv",
   "language": "python",
   "name": "python3"
  },
  "language_info": {
   "codemirror_mode": {
    "name": "ipython",
    "version": 3
   },
   "file_extension": ".py",
   "mimetype": "text/x-python",
   "name": "python",
   "nbconvert_exporter": "python",
   "pygments_lexer": "ipython3",
   "version": "3.10.15"
  }
 },
 "nbformat": 4,
 "nbformat_minor": 2
}
