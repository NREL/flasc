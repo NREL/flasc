{
 "cells": [
  {
   "cell_type": "markdown",
   "metadata": {},
   "source": [
    "# FLASC data format"
   ]
  },
  {
   "cell_type": "markdown",
   "metadata": {},
   "source": [
    "Data used by FLASC adheres to the following conventions:\n",
    "\n",
    "- `time` represents the time, preferably in UTC\n",
    "-  turbines are sequentially numbered, starting from 0, and numbers are always 3 digits long (e.g. the \"8th\" turbine is represented as `007`)\n",
    "-  `pow_000` represents the power output of turbine 0\n",
    "-  `ws_000` represents the wind speed at turbine 0\n",
    "-  `wd_000` represents the wind direction at turbine 0\n",
    "-  `wd` represents the wind direction chosen for example to represent the overall inflow direction\n",
    "-  `ws` represents the wind speed chosen for example to represent the overall inflow speed\n",
    "-  `pow_ref` represents the power output of the reference turbine (or average of reference turbines)\n",
    "-  `pow_test` represents the power output of the test turbine (or average of test turbines)"
   ]
  },
  {
   "cell_type": "code",
   "execution_count": null,
   "metadata": {},
   "outputs": [],
   "source": [
    "import pandas as pd\n",
    "\n",
    "# This dataframe adhere's to FLASC's data formatting requirements and could be used for\n",
    "# FLASC analysis\n",
    "df = pd.DataFrame(\n",
    "    {\n",
    "        \"time\": [0, 1, 2, 3, 4, 5],\n",
    "        \"pow_000\": [100, 100, 100, 100, 100, 100],\n",
    "        \"pow_001\": [100, 100, 100, 100, 100, 100],\n",
    "        \"ws_000\": [10, 10, 10, 10, 10, 10],\n",
    "        \"ws_001\": [10, 10, 10, 10, 10, 10],\n",
    "        \"wd_000\": [270, 270, 270, 270, 270, 270],\n",
    "        \"wd_001\": [270, 270, 270, 270, 270, 270],\n",
    "    }\n",
    ")"
   ]
  },
  {
   "cell_type": "markdown",
   "metadata": {},
   "source": [
    "# `FlascDataFrame`"
   ]
  },
  {
   "cell_type": "markdown",
   "metadata": {},
   "source": [
    "FLASC has historically used a `pandas.DataFrame` to store the data to be processed, as demonstrated above.  Beginning in version 2.1, the `FlascDataFrame` class was introduced to provide additional methods and functionality to the data.  `FlascDataFrame` is a subclass of `pandas.DataFrame` and can be used in place of a `pandas.DataFrame`.  The following code cells provide an overview of the `FlascDataFrame` class and its methods.  Support is added for converting between \"FLASC\" style data formatting and \"user\" formats, to make adhering to FLASC's data formatting conventions more straightforward."
   ]
  },
  {
   "cell_type": "markdown",
   "metadata": {},
   "source": [
    "## Using FlascDataFrame"
   ]
  },
  {
   "cell_type": "code",
   "execution_count": null,
   "metadata": {},
   "outputs": [],
   "source": [
    "# The above pandas.DataFrame can be converted to a FlascDataFrame directly\n",
    "from flasc import FlascDataFrame\n",
    "\n",
    "fdf = FlascDataFrame(df)\n",
    "print(fdf.head())"
   ]
  },
  {
   "cell_type": "code",
   "execution_count": null,
   "metadata": {},
   "outputs": [],
   "source": [
    "# The FlascDataFrame includes a few helper functions added to the base pandas dataframe.\n",
    "# The following returns the number of turbines found in the dataframe.\n",
    "print(fdf.n_turbines)"
   ]
  },
  {
   "cell_type": "markdown",
   "metadata": {},
   "source": [
    "## Creating a FlascDataFrame from User Data"
   ]
  },
  {
   "cell_type": "markdown",
   "metadata": {},
   "source": [
    "More value from a FlascDataFrame is obtained when using it convert back and forth between user-formatted data and Flasc Data.  "
   ]
  },
  {
   "cell_type": "code",
   "execution_count": null,
   "metadata": {},
   "outputs": [],
   "source": [
    "import numpy as np\n",
    "\n",
    "# Suppose the we have a 3 turbine farm with turbines names 'TB01', 'TB02', 'TB03'\n",
    "# For each turbine we have power, wind speed and wind direction data\n",
    "# Assume that in the native data collection system,\n",
    "# the signal names for each channel are given below\n",
    "\n",
    "N = 20  # Number of data points\n",
    "\n",
    "# Wind speeds\n",
    "wind_speed_TB01 = np.random.rand(N) + 8.0\n",
    "wind_speed_TB02 = np.random.rand(N) + 7.5\n",
    "wind_speed_TB03 = np.random.rand(N) + 8.5\n",
    "\n",
    "# Wind directions\n",
    "wind_dir_TB01 = 10 * np.random.rand(N) + 270.0\n",
    "wind_dir_TB02 = 10 * np.random.rand(N) + 270.0\n",
    "wind_dir_TB03 = 10 * np.random.rand(N) + 270.0\n",
    "\n",
    "# Power\n",
    "power_TB01 = wind_speed_TB01**3\n",
    "power_TB02 = wind_speed_TB02**3\n",
    "power_TB03 = wind_speed_TB03**3\n",
    "\n",
    "# Time\n",
    "time = np.arange(N)"
   ]
  },
  {
   "cell_type": "code",
   "execution_count": null,
   "metadata": {},
   "outputs": [],
   "source": [
    "# Create a dictrionary storing this data, which could be used to instantiate a pandas.DataFrame\n",
    "# or a FlascDataFrame\n",
    "data_dict = {\n",
    "    \"time\": time,\n",
    "    \"wind_speed_TB01\": wind_speed_TB01,\n",
    "    \"wind_speed_TB02\": wind_speed_TB02,\n",
    "    \"wind_speed_TB03\": wind_speed_TB03,\n",
    "    \"wind_dir_TB01\": wind_dir_TB01,\n",
    "    \"wind_dir_TB02\": wind_dir_TB02,\n",
    "    \"wind_dir_TB03\": wind_dir_TB03,\n",
    "    \"power_TB01\": power_TB01,\n",
    "    \"power_TB02\": power_TB02,\n",
    "    \"power_TB03\": power_TB03,\n",
    "}"
   ]
  },
  {
   "cell_type": "markdown",
   "metadata": {},
   "source": [
    "The data is currently stored using the the channel and turbine names of the user. By supplying additional metadata to the FlascDataFrame, the data can be converted to and from the FLASC format."
   ]
  },
  {
   "cell_type": "code",
   "execution_count": null,
   "metadata": {},
   "outputs": [],
   "source": [
    "# Declare a channel_name_map dictionary to map the signal names to the turbine names.\n",
    "# The turbine numbers when 0-indexed in FLASC format should\n",
    "# align with their numbering in the FLORIS model of the same farm.\n",
    "channel_name_map = {\n",
    "    \"time\": \"time\",\n",
    "    \"wind_speed_TB01\": \"ws_000\",\n",
    "    \"wind_speed_TB02\": \"ws_001\",\n",
    "    \"wind_speed_TB03\": \"ws_002\",\n",
    "    \"wind_dir_TB01\": \"wd_000\",\n",
    "    \"wind_dir_TB02\": \"wd_001\",\n",
    "    \"wind_dir_TB03\": \"wd_002\",\n",
    "    \"power_TB01\": \"pow_000\",\n",
    "    \"power_TB02\": \"pow_001\",\n",
    "    \"power_TB03\": \"pow_002\",\n",
    "}"
   ]
  },
  {
   "cell_type": "markdown",
   "metadata": {},
   "source": [
    "We are now in a position to instantiate a `FlascDataFrame`"
   ]
  },
  {
   "cell_type": "code",
   "execution_count": null,
   "metadata": {},
   "outputs": [],
   "source": [
    "fdf = FlascDataFrame(data_dict, channel_name_map=channel_name_map)\n",
    "print(fdf.head())"
   ]
  },
  {
   "cell_type": "markdown",
   "metadata": {},
   "source": [
    "Converting this to the FLASC format (and back) now simply requires calling the appropriate method. This makes it convenient to work with FLASC functions (that require the data to be in FLASC format) and user-provided functions (that may require the user's formatting) within the same workflow."
   ]
  },
  {
   "cell_type": "code",
   "execution_count": null,
   "metadata": {},
   "outputs": [],
   "source": [
    "# Convert now into FLASC format (as a copy)\n",
    "fdf_flasc = fdf.convert_to_flasc_format()\n",
    "print(fdf_flasc.head(2))\n",
    "\n",
    "print(\"\\n\\n\")\n",
    "# Convert back to user format (as a copy)\n",
    "fdf_user = fdf_flasc.convert_to_user_format()\n",
    "print(fdf_user.head(2))\n",
    "\n",
    "print(\"\\n\\n\")\n",
    "# Conversions can also happen in place, if the inplace argument is set to True\n",
    "fdf.convert_to_flasc_format(inplace=True)\n",
    "print(fdf.head(2))\n",
    "print(\"\\n\")\n",
    "fdf.convert_to_user_format(inplace=True)\n",
    "print(fdf.head(2))"
   ]
  },
  {
   "cell_type": "markdown",
   "metadata": {},
   "source": [
    "## Converting Wide and Long"
   ]
  },
  {
   "cell_type": "markdown",
   "metadata": {},
   "source": [
    "FlascDataFrame also provides methods to convert between wide and long formats.  FLASC's native format is always \"wide\", that is, each channel has its own column.  But `FlascDataFrame` can be used to convert to a user format that is \"long\" where each channel is a row in the dataframe.  "
   ]
  },
  {
   "cell_type": "code",
   "execution_count": null,
   "metadata": {},
   "outputs": [],
   "source": [
    "df = pd.DataFrame(\n",
    "    {\n",
    "        \"time\": time,\n",
    "        \"wind_speed_TB01\": wind_speed_TB01,\n",
    "        \"wind_speed_TB02\": wind_speed_TB02,\n",
    "        \"wind_speed_TB03\": wind_speed_TB03,\n",
    "        \"wind_dir_TB01\": wind_dir_TB01,\n",
    "        \"wind_dir_TB02\": wind_dir_TB02,\n",
    "        \"wind_dir_TB03\": wind_dir_TB03,\n",
    "        \"power_TB01\": power_TB01,\n",
    "        \"power_TB02\": power_TB02,\n",
    "        \"power_TB03\": power_TB03,\n",
    "    }\n",
    ")\n",
    "\n",
    "# Convert to \"long\" format; this is taken to be the user's desired format in this example.\n",
    "df = pd.melt(df, id_vars=[\"time\"], var_name=\"channel\", value_name=\"value\")\n",
    "print(df)"
   ]
  },
  {
   "cell_type": "code",
   "execution_count": null,
   "metadata": {},
   "outputs": [],
   "source": [
    "# This time include in the specification of the FlascDataFrame the name of the\n",
    "# columns of the long data\n",
    "fdf = FlascDataFrame(\n",
    "    df,\n",
    "    channel_name_map=channel_name_map,\n",
    "    long_data_columns={\"variable_column\": \"channel\", \"value_column\": \"value\"},\n",
    ")\n",
    "print(fdf.head())"
   ]
  },
  {
   "cell_type": "markdown",
   "metadata": {},
   "source": [
    "The data can still be converted to FLASC format (and back)"
   ]
  },
  {
   "cell_type": "code",
   "execution_count": null,
   "metadata": {},
   "outputs": [],
   "source": [
    "fdf_flasc = fdf.convert_to_flasc_format()\n",
    "print(fdf_flasc.head(2))\n",
    "print(\"\\n\\n\")\n",
    "fdf_user = fdf_flasc.convert_to_user_format()\n",
    "print(fdf_user.head(2))\n",
    "\n",
    "# As before, conversions can also happen in place, if the inplace argument is set to True"
   ]
  },
  {
   "cell_type": "markdown",
   "metadata": {},
   "source": [
    "## Exporting to wind-up format"
   ]
  },
  {
   "cell_type": "markdown",
   "metadata": {},
   "source": [
    "Another use case for `FlascDataFrame` is to export the data into the \"wind-up\" format.  [Wind-up](https://github.com/resgroup/wind-up) is an open source tool for assessing uplift provided by RES.  This conversion  provides a convenient way to assess the data, in the case of uplift assessment, using the wind-up tool, which is imported by FLASC.  A full demonstration of the usage of the wind-up tool in FLASC is provided within the [Smarteole](https://github.com/NREL/flasc/tree/main/examples_smarteole) example set."
   ]
  },
  {
   "cell_type": "code",
   "execution_count": null,
   "metadata": {},
   "outputs": [],
   "source": [
    "fdf = fdf.convert_to_flasc_format()\n",
    "\n",
    "df_windup = fdf.export_to_windup_format()  # df_windup is a pandas DataFrame\n",
    "print(df_windup.head())"
   ]
  },
  {
   "cell_type": "code",
   "execution_count": null,
   "metadata": {},
   "outputs": [],
   "source": []
  }
 ],
 "metadata": {
  "kernelspec": {
   "display_name": ".venv",
   "language": "python",
   "name": "python3"
  },
  "language_info": {
   "codemirror_mode": {
    "name": "ipython",
    "version": 3
   },
   "file_extension": ".py",
   "mimetype": "text/x-python",
   "name": "python",
   "nbconvert_exporter": "python",
   "pygments_lexer": "ipython3",
   "version": "3.10.4"
  }
 },
 "nbformat": 4,
 "nbformat_minor": 2
}
