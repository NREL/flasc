{
 "cells": [
  {
   "cell_type": "markdown",
   "metadata": {},
   "source": [
    "# FLASC data format"
   ]
  },
  {
   "cell_type": "markdown",
   "metadata": {},
   "source": [
    "Data used by FLASC adheres to the following conventions:\n",
    "\n",
    "- `time` represents the time, preferably in UTC\n",
    "-  turbines are sequentially numbered, starting from 0, and numbers are always 3 digits long (e.g. the \"8th\" turbine is represented as `007`)\n",
    "-  `pow_000` represents the power output of turbine 0\n",
    "-  `ws_000` represents the wind speed at turbine 0\n",
    "-  `wd_000` represents the wind direction at turbine 0\n",
    "-  `wd` represents the wind direction chosen for example to represent the overall inflow direction\n",
    "-  `ws` represents the wind speed chosen for example to represent the overall inflow speed\n",
    "-  `pow_ref` represents the power output of the reference turbine (or average of reference turbines)\n",
    "-  `pow_test` represents the power output of the test turbine (or average of test turbines)"
   ]
  },
  {
   "cell_type": "code",
   "execution_count": 5,
   "metadata": {},
   "outputs": [],
   "source": [
    "import pandas as pd\n",
    "\n",
    "# This dataframe adhere's to FLASC's data formatting requirements and could be used for\n",
    "# FLASC analysis\n",
    "df = pd.DataFrame(\n",
    "    {\n",
    "        \"time\": [0, 1, 2, 3, 4, 5],\n",
    "        \"pow_000\": [100, 100, 100, 100, 100, 100],\n",
    "        \"pow_001\": [100, 100, 100, 100, 100, 100],\n",
    "        \"ws_000\": [10, 10, 10, 10, 10, 10],\n",
    "        \"ws_001\": [10, 10, 10, 10, 10, 10],\n",
    "        \"wd_000\": [270, 270, 270, 270, 270, 270],\n",
    "        \"wd_001\": [270, 270, 270, 270, 270, 270],\n",
    "    }\n",
    ")"
   ]
  },
  {
   "cell_type": "markdown",
   "metadata": {},
   "source": [
    "# `FlascDataFrame`"
   ]
  },
  {
   "cell_type": "markdown",
   "metadata": {},
   "source": [
    "FLASC has historically used a `pandas.DataFrame` to store the data to be processed, as demonstrated above.  Beginning in version 2.1, the `FlascDataFrame` class was introduced to provide additional methods and functionality to the data.  `FlascDataFrame` is a subclass of `pandas.DataFrame` and can be used in place of a `pandas.DataFrame`.  The following code cells provide an overview of the `FlascDataFrame` class and its methods.  Support is added for converting between \"FLASC\" style data formatting and \"user\" formats, to make adhering to FLASC's data formatting conventions more straightforward."
   ]
  },
  {
   "cell_type": "markdown",
   "metadata": {},
   "source": [
    "## Using FlascDataFrame"
   ]
  },
  {
   "cell_type": "code",
   "execution_count": 6,
   "metadata": {},
   "outputs": [
    {
     "name": "stdout",
     "output_type": "stream",
     "text": [
      "FlascDataFrame in FLASC format\n",
      "   time  pow_000  pow_001  ws_000  ws_001  wd_000  wd_001\n",
      "0     0      100      100      10      10     270     270\n",
      "1     1      100      100      10      10     270     270\n",
      "2     2      100      100      10      10     270     270\n",
      "3     3      100      100      10      10     270     270\n",
      "4     4      100      100      10      10     270     270\n"
     ]
    }
   ],
   "source": [
    "# The above pandas.DataFrame can be converted to a FlascDataFrame directly\n",
    "from flasc import FlascDataFrame\n",
    "\n",
    "fdf = FlascDataFrame(df)\n",
    "print(fdf.head())"
   ]
  },
  {
   "cell_type": "code",
   "execution_count": 7,
   "metadata": {},
   "outputs": [
    {
     "name": "stdout",
     "output_type": "stream",
     "text": [
      "2\n"
     ]
    }
   ],
   "source": [
    "# The FlascDataFrame includes a few helper functions added to the base pandas dataframe.\n",
    "# The following returns the number of turbines found in the dataframe.\n",
    "print(fdf.n_turbines)"
   ]
  },
  {
   "cell_type": "markdown",
   "metadata": {},
   "source": [
    "## Creating a FlascDataFrame from User Data"
   ]
  },
  {
   "cell_type": "markdown",
   "metadata": {},
   "source": [
    "More value from a FlascDataFrame is obtained when using it convert back and forth between user-formatted data and Flasc Data.  "
   ]
  },
  {
   "cell_type": "code",
   "execution_count": 8,
   "metadata": {},
   "outputs": [],
   "source": [
    "import numpy as np\n",
    "\n",
    "# Suppose the we have a 3 turbine farm with turbines names 'TB01', 'TB02', 'TB03'\n",
    "# For each turbine we have power, wind speed and wind direction data\n",
    "# Assume that in the native data collection system,\n",
    "# the signal names for each channel are given below\n",
    "\n",
    "N = 20  # Number of data points\n",
    "\n",
    "# Wind speeds\n",
    "wind_speed_TB01 = np.random.rand(N) + 8.0\n",
    "wind_speed_TB02 = np.random.rand(N) + 7.5\n",
    "wind_speed_TB03 = np.random.rand(N) + 8.5\n",
    "\n",
    "# Wind directions\n",
    "wind_dir_TB01 = 10 * np.random.rand(N) + 270.0\n",
    "wind_dir_TB02 = 10 * np.random.rand(N) + 270.0\n",
    "wind_dir_TB03 = 10 * np.random.rand(N) + 270.0\n",
    "\n",
    "# Power\n",
    "power_TB01 = wind_speed_TB01**3\n",
    "power_TB02 = wind_speed_TB02**3\n",
    "power_TB03 = wind_speed_TB03**3\n",
    "\n",
    "# Time\n",
    "time = np.arange(N)"
   ]
  },
  {
   "cell_type": "code",
   "execution_count": 9,
   "metadata": {},
   "outputs": [],
   "source": [
    "# Create a dictrionary storing this data, which could be used to instantiate a pandas.DataFrame\n",
    "# or a FlascDataFrame\n",
    "data_dict = {\n",
    "    \"time\": time,\n",
    "    \"wind_speed_TB01\": wind_speed_TB01,\n",
    "    \"wind_speed_TB02\": wind_speed_TB02,\n",
    "    \"wind_speed_TB03\": wind_speed_TB03,\n",
    "    \"wind_dir_TB01\": wind_dir_TB01,\n",
    "    \"wind_dir_TB02\": wind_dir_TB02,\n",
    "    \"wind_dir_TB03\": wind_dir_TB03,\n",
    "    \"power_TB01\": power_TB01,\n",
    "    \"power_TB02\": power_TB02,\n",
    "    \"power_TB03\": power_TB03,\n",
    "}"
   ]
  },
  {
   "cell_type": "markdown",
   "metadata": {},
   "source": [
    "The data is currently stored using the the channel and turbine names of the user. By supplying additional metadata to the FlascDataFrame, the data can be converted to and from the FLASC format."
   ]
  },
  {
   "cell_type": "code",
   "execution_count": 10,
   "metadata": {},
   "outputs": [],
   "source": [
    "# Declare a channel_name_map dictionary to map the signal names to the turbine names.\n",
    "# The turbine numbers when 0-indexed in FLASC format should\n",
    "# align with their numbering in the FLORIS model of the same farm.\n",
    "channel_name_map = {\n",
    "    \"time\": \"time\",\n",
    "    \"wind_speed_TB01\": \"ws_000\",\n",
    "    \"wind_speed_TB02\": \"ws_001\",\n",
    "    \"wind_speed_TB03\": \"ws_002\",\n",
    "    \"wind_dir_TB01\": \"wd_000\",\n",
    "    \"wind_dir_TB02\": \"wd_001\",\n",
    "    \"wind_dir_TB03\": \"wd_002\",\n",
    "    \"power_TB01\": \"pow_000\",\n",
    "    \"power_TB02\": \"pow_001\",\n",
    "    \"power_TB03\": \"pow_002\",\n",
    "}"
   ]
  },
  {
   "cell_type": "markdown",
   "metadata": {},
   "source": [
    "We are now in a position to instantiate a `FlascDataFrame`"
   ]
  },
  {
   "cell_type": "code",
   "execution_count": 12,
   "metadata": {},
   "outputs": [
    {
     "name": "stdout",
     "output_type": "stream",
     "text": [
      "FlascDataFrame in user (wide) format\n",
      "   time  wind_speed_TB01  wind_speed_TB02  wind_speed_TB03  wind_dir_TB01  \\\n",
      "0     0         8.863084         7.635063         8.560377     278.647284   \n",
      "1     1         8.937316         7.986625         8.865439     275.910954   \n",
      "2     2         8.523315         7.718569         8.507713     276.397628   \n",
      "3     3         8.807743         7.940359         9.372092     278.976430   \n",
      "4     4         8.099530         7.620465         9.386467     274.257194   \n",
      "\n",
      "   wind_dir_TB02  wind_dir_TB03  power_TB01  power_TB02  power_TB03  \n",
      "0     279.551985     278.088943  696.233092  445.079843  627.304990  \n",
      "1     274.648224     278.969281  713.873585  509.436367  696.788230  \n",
      "2     272.939598     277.226717  619.192306  459.843842  615.798372  \n",
      "3     278.207210     275.532743  683.272356  500.634015  823.208129  \n",
      "4     279.698878     277.059578  531.348418  442.531676  827.001823  \n"
     ]
    },
    {
     "name": "stderr",
     "output_type": "stream",
     "text": [
      "/Users/msinner/flasc/flasc/flasc_dataframe.py:57: UserWarning: Pandas doesn't allow columns to be created via a new attribute name - see https://pandas.pydata.org/pandas-docs/stable/indexing.html#attribute-access\n",
      "  self.channel_name_map = channel_name_map\n"
     ]
    }
   ],
   "source": [
    "fdf = FlascDataFrame(data_dict, channel_name_map=channel_name_map)\n",
    "print(fdf.head())"
   ]
  },
  {
   "cell_type": "markdown",
   "metadata": {},
   "source": [
    "Converting this to the FLASC format (and back) now simply requires calling the appropriate method. This makes it convenient to work with FLASC functions (that require the data to be in FLASC format) and user-provided functions (that may require the user's formatting) within the same workflow."
   ]
  },
  {
   "cell_type": "code",
   "execution_count": 15,
   "metadata": {},
   "outputs": [
    {
     "name": "stdout",
     "output_type": "stream",
     "text": [
      "FlascDataFrame in FLASC format\n",
      "   time    ws_000    ws_001    ws_002      wd_000      wd_001      wd_002  \\\n",
      "0     0  8.863084  7.635063  8.560377  278.647284  279.551985  278.088943   \n",
      "1     1  8.937316  7.986625  8.865439  275.910954  274.648224  278.969281   \n",
      "\n",
      "      pow_000     pow_001    pow_002  \n",
      "0  696.233092  445.079843  627.30499  \n",
      "1  713.873585  509.436367  696.78823  \n",
      "\n",
      "\n",
      "\n",
      "FlascDataFrame in user (wide) format\n",
      "   time  wind_speed_TB01  wind_speed_TB02  wind_speed_TB03  wind_dir_TB01  \\\n",
      "0     0         8.863084         7.635063         8.560377     278.647284   \n",
      "1     1         8.937316         7.986625         8.865439     275.910954   \n",
      "\n",
      "   wind_dir_TB02  wind_dir_TB03  power_TB01  power_TB02  power_TB03  \n",
      "0     279.551985     278.088943  696.233092  445.079843   627.30499  \n",
      "1     274.648224     278.969281  713.873585  509.436367   696.78823  \n",
      "\n",
      "\n",
      "\n",
      "FlascDataFrame in FLASC format\n",
      "   time    ws_000    ws_001    ws_002      wd_000      wd_001      wd_002  \\\n",
      "0     0  8.863084  7.635063  8.560377  278.647284  279.551985  278.088943   \n",
      "1     1  8.937316  7.986625  8.865439  275.910954  274.648224  278.969281   \n",
      "\n",
      "      pow_000     pow_001    pow_002  \n",
      "0  696.233092  445.079843  627.30499  \n",
      "1  713.873585  509.436367  696.78823  \n",
      "\n",
      "\n",
      "FlascDataFrame in user (wide) format\n",
      "   time  wind_speed_TB01  wind_speed_TB02  wind_speed_TB03  wind_dir_TB01  \\\n",
      "0     0         8.863084         7.635063         8.560377     278.647284   \n",
      "1     1         8.937316         7.986625         8.865439     275.910954   \n",
      "\n",
      "   wind_dir_TB02  wind_dir_TB03  power_TB01  power_TB02  power_TB03  \n",
      "0     279.551985     278.088943  696.233092  445.079843   627.30499  \n",
      "1     274.648224     278.969281  713.873585  509.436367   696.78823  \n"
     ]
    }
   ],
   "source": [
    "# Convert now into FLASC format (as a copy)\n",
    "fdf_flasc = fdf.convert_to_flasc_format()\n",
    "print(fdf_flasc.head(2))\n",
    "\n",
    "print(\"\\n\\n\")\n",
    "# Convert back to user format (as a copy)\n",
    "fdf_user = fdf_flasc.convert_to_user_format()\n",
    "print(fdf_user.head(2))\n",
    "\n",
    "print(\"\\n\\n\")\n",
    "# Conversions can also happen in place, if the inplace argument is set to True\n",
    "fdf.convert_to_flasc_format(inplace=True)\n",
    "print(fdf.head(2))\n",
    "print(\"\\n\")\n",
    "fdf.convert_to_user_format(inplace=True)\n",
    "print(fdf.head(2))"
   ]
  },
  {
   "cell_type": "markdown",
   "metadata": {},
   "source": [
    "## Converting Wide and Long"
   ]
  },
  {
   "cell_type": "markdown",
   "metadata": {},
   "source": [
    "FlascDataFrame also provides methods to convert between wide and long formats.  FLASC's native format is always \"wide\", that is, each channel has its own column.  But `FlascDataFrame` can be used to convert to a user format that is \"long\" where each channel is a row in the dataframe.  "
   ]
  },
  {
   "cell_type": "code",
   "execution_count": 21,
   "metadata": {},
   "outputs": [
    {
     "name": "stdout",
     "output_type": "stream",
     "text": [
      "     time          channel       value\n",
      "0       0  wind_speed_TB01    8.863084\n",
      "1       1  wind_speed_TB01    8.937316\n",
      "2       2  wind_speed_TB01    8.523315\n",
      "3       3  wind_speed_TB01    8.807743\n",
      "4       4  wind_speed_TB01    8.099530\n",
      "..    ...              ...         ...\n",
      "175    15       power_TB03  649.226050\n",
      "176    16       power_TB03  767.097096\n",
      "177    17       power_TB03  796.813641\n",
      "178    18       power_TB03  837.215661\n",
      "179    19       power_TB03  631.403542\n",
      "\n",
      "[180 rows x 3 columns]\n"
     ]
    }
   ],
   "source": [
    "df = pd.DataFrame(\n",
    "    {\n",
    "        \"time\": time,\n",
    "        \"wind_speed_TB01\": wind_speed_TB01,\n",
    "        \"wind_speed_TB02\": wind_speed_TB02,\n",
    "        \"wind_speed_TB03\": wind_speed_TB03,\n",
    "        \"wind_dir_TB01\": wind_dir_TB01,\n",
    "        \"wind_dir_TB02\": wind_dir_TB02,\n",
    "        \"wind_dir_TB03\": wind_dir_TB03,\n",
    "        \"power_TB01\": power_TB01,\n",
    "        \"power_TB02\": power_TB02,\n",
    "        \"power_TB03\": power_TB03,\n",
    "    }\n",
    ")\n",
    "\n",
    "# Convert to \"long\" format; this is taken to be the user's desired format in this example.\n",
    "df = pd.melt(df, id_vars=[\"time\"], var_name=\"channel\", value_name=\"value\")\n",
    "print(df)"
   ]
  },
  {
   "cell_type": "code",
   "execution_count": 17,
   "metadata": {},
   "outputs": [
    {
     "name": "stderr",
     "output_type": "stream",
     "text": [
      "/Users/msinner/flasc/flasc/flasc_dataframe.py:57: UserWarning: Pandas doesn't allow columns to be created via a new attribute name - see https://pandas.pydata.org/pandas-docs/stable/indexing.html#attribute-access\n",
      "  self.channel_name_map = channel_name_map\n"
     ]
    }
   ],
   "source": [
    "# This time include in the specification of the FlascDataFrame the name of the\n",
    "# columns of the long data\n",
    "fdf = FlascDataFrame(\n",
    "    df,\n",
    "    channel_name_map=channel_name_map,\n",
    "    long_data_columns={\"variable_column\": \"channel\", \"value_column\": \"value\"},\n",
    ")\n",
    "print(fdf.head())"
   ]
  },
  {
   "cell_type": "markdown",
   "metadata": {},
   "source": [
    "The data can still be converted to FLASC format (and back)"
   ]
  },
  {
   "cell_type": "code",
   "execution_count": 20,
   "metadata": {},
   "outputs": [
    {
     "name": "stdout",
     "output_type": "stream",
     "text": [
      "FlascDataFrame in FLASC format\n",
      "   time     pow_000     pow_001    pow_002      wd_000      wd_001  \\\n",
      "0     0  696.233092  445.079843  627.30499  278.647284  279.551985   \n",
      "1     1  713.873585  509.436367  696.78823  275.910954  274.648224   \n",
      "\n",
      "       wd_002    ws_000    ws_001    ws_002  \n",
      "0  278.088943  8.863084  7.635063  8.560377  \n",
      "1  278.969281  8.937316  7.986625  8.865439  \n",
      "\n",
      "\n",
      "\n",
      "FlascDataFrame in user (long) format\n",
      "   time     channel       value\n",
      "0     0  power_TB01  696.233092\n",
      "1     0  power_TB02  445.079843\n"
     ]
    },
    {
     "name": "stderr",
     "output_type": "stream",
     "text": [
      "/Users/msinner/flasc/flasc/flasc_dataframe.py:57: UserWarning: Pandas doesn't allow columns to be created via a new attribute name - see https://pandas.pydata.org/pandas-docs/stable/indexing.html#attribute-access\n",
      "  self.channel_name_map = channel_name_map\n",
      "/Users/msinner/flasc/flasc/flasc_dataframe.py:57: UserWarning: Pandas doesn't allow columns to be created via a new attribute name - see https://pandas.pydata.org/pandas-docs/stable/indexing.html#attribute-access\n",
      "  self.channel_name_map = channel_name_map\n"
     ]
    }
   ],
   "source": [
    "fdf_flasc = fdf.convert_to_flasc_format()\n",
    "print(fdf_flasc.head(2))\n",
    "print(\"\\n\\n\")\n",
    "fdf_user = fdf_flasc.convert_to_user_format()\n",
    "print(fdf_user.head(2))\n",
    "\n",
    "# As before, conversions can also happen in place, if the inplace argument is set to True"
   ]
  },
  {
   "cell_type": "markdown",
   "metadata": {},
   "source": [
    "## Converting to wind-up format"
   ]
  },
  {
   "cell_type": "markdown",
   "metadata": {},
   "source": [
    "Another use case for `FlascDataFrame` is to convert the data into the \"wind-up\" format.  [Wind-up](https://github.com/resgroup/wind-up) is an open source tool for assessing uplift provided by RES.  This conversion  provides a convenient way to assess the data, in the case of uplift assessment, using the wind-up tool, which is imported by FLASC.  A full demonstration of the usage of the wind-up tool in FLASC is provided within the [Smarteole](https://github.com/NREL/flasc/tree/main/examples_smarteole) example set."
   ]
  },
  {
   "cell_type": "code",
   "execution_count": 13,
   "metadata": {},
   "outputs": [
    {
     "name": "stdout",
     "output_type": "stream",
     "text": [
      "                       raw_ActivePowerMean  raw_YawAngleMean  \\\n",
      "TimeStamp_StartFormat                                          \n",
      "0                               588.357466        273.281758   \n",
      "1                               588.362729        272.688047   \n",
      "2                               607.726306        270.352028   \n",
      "3                               710.802621        276.258398   \n",
      "4                               596.086376        279.982122   \n",
      "\n",
      "                       raw_WindSpeedMean TurbineName  PitchAngleMean  \\\n",
      "TimeStamp_StartFormat                                                  \n",
      "0                               8.379416         000               0   \n",
      "1                               8.379441         000               0   \n",
      "2                               8.470376         000               0   \n",
      "3                               8.924482         000               0   \n",
      "4                               8.415948         000               0   \n",
      "\n",
      "                       GenRpmMean  raw_ShutdownDuration  ActivePowerMean  \\\n",
      "TimeStamp_StartFormat                                                      \n",
      "0                            1000                     0       588.357466   \n",
      "1                            1000                     0       588.362729   \n",
      "2                            1000                     0       607.726306   \n",
      "3                            1000                     0       710.802621   \n",
      "4                            1000                     0       596.086376   \n",
      "\n",
      "                       WindSpeedMean  YawAngleMean  ShutdownDuration  \n",
      "TimeStamp_StartFormat                                                 \n",
      "0                           8.379416    273.281758                 0  \n",
      "1                           8.379441    272.688047                 0  \n",
      "2                           8.470376    270.352028                 0  \n",
      "3                           8.924482    276.258398                 0  \n",
      "4                           8.415948    279.982122                 0  \n"
     ]
    },
    {
     "name": "stderr",
     "output_type": "stream",
     "text": [
      "/Users/msinner/flasc/flasc/flasc_dataframe.py:57: UserWarning: Pandas doesn't allow columns to be created via a new attribute name - see https://pandas.pydata.org/pandas-docs/stable/indexing.html#attribute-access\n",
      "  self.channel_name_map = channel_name_map\n"
     ]
    }
   ],
   "source": [
    "fdf = fdf.convert_to_flasc_format()\n",
    "print(fdf.convert_to_windup_format().head())"
   ]
  }
 ],
 "metadata": {
  "kernelspec": {
   "display_name": ".venv",
   "language": "python",
   "name": "python3"
  },
  "language_info": {
   "codemirror_mode": {
    "name": "ipython",
    "version": 3
   },
   "file_extension": ".py",
   "mimetype": "text/x-python",
   "name": "python",
   "nbconvert_exporter": "python",
   "pygments_lexer": "ipython3",
   "version": "3.10.4"
  }
 },
 "nbformat": 4,
 "nbformat_minor": 2
}
