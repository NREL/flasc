{
 "cells": [
  {
   "cell_type": "markdown",
   "metadata": {},
   "source": [
    "# Compute uplift using expected power analysis"
   ]
  },
  {
   "cell_type": "markdown",
   "metadata": {},
   "source": [
    "Expected power analysis computes the uplift with uncertainty bounds.  The method is an implementation of that described in [AWC validation methodology](https://publications.tno.nl/publication/34637216/LWOb3s/TNO-2020-R11300.pdf)"
   ]
  },
  {
   "cell_type": "code",
   "execution_count": 1,
   "metadata": {},
   "outputs": [],
   "source": [
    "from pathlib import Path\n",
    "\n",
    "import pandas as pd\n",
    "\n",
    "from flasc.analysis.analysis_input import AnalysisInput\n",
    "from flasc.analysis.expected_power_analysis import (\n",
    "    total_uplift_expected_power,\n",
    ")\n",
    "from flasc.analysis.expected_power_analysis_by import (\n",
    "    total_uplift_expected_power_by_wd,\n",
    ")\n",
    "from flasc.utilities.floris_tools import estimate_ws_with_floris\n",
    "from flasc.utilities.utilities_examples import load_floris_smarteole as load_floris"
   ]
  },
  {
   "cell_type": "markdown",
   "metadata": {},
   "source": [
    "# Load processed data"
   ]
  },
  {
   "cell_type": "code",
   "execution_count": 2,
   "metadata": {},
   "outputs": [],
   "source": [
    "def load_data():\n",
    "    root_path = Path.cwd()\n",
    "    f = root_path / \"postprocessed\" / \"df_scada_data_60s_filtered_and_northing_calibrated.pkl\"\n",
    "    df_scada = pd.read_pickle(f)\n",
    "\n",
    "    # # Optionally: downsample to [x] minute averages to speed up things\n",
    "    # cols_angular = [c for c in df_scada if ((\"wd_\" in c) or (\"yaw_\" in c))]\n",
    "    # df_scada = fto.df_downsample(\n",
    "    #     df_scada,\n",
    "    #     cols_angular=cols_angular,\n",
    "    #     window_width=td(seconds=600),\n",
    "    # )\n",
    "\n",
    "    return df_scada\n",
    "\n",
    "\n",
    "df_scada = load_data()"
   ]
  },
  {
   "cell_type": "code",
   "execution_count": 3,
   "metadata": {},
   "outputs": [
    {
     "name": "stdout",
     "output_type": "stream",
     "text": [
      "FlascDataFrame in FLASC format\n",
      "                 time      pow_000      pow_001      pow_002  pow_003  \\\n",
      "0 2020-02-17 16:30:00  2023.746948  2045.376953  2031.724976      NaN   \n",
      "1 2020-02-17 16:31:00  1959.036011  2050.572998  2034.890991      NaN   \n",
      "2 2020-02-17 16:32:00  2053.658936  2032.191040  2011.870972      NaN   \n",
      "3 2020-02-17 16:33:00  2044.296997  2060.478027  1995.057983      NaN   \n",
      "4 2020-02-17 16:34:00  2058.281006  2042.703003  2031.723999      NaN   \n",
      "\n",
      "       pow_004      pow_005      pow_006  ws_000  ws_001  ...  ws_est_002  \\\n",
      "0  2028.063965  2032.461060  1983.390991  13.066  12.337  ...      13.232   \n",
      "1  2017.777954  1943.764038  2046.568970  12.091  13.057  ...      13.967   \n",
      "2          NaN  2052.092041  2039.948975  13.381  12.213  ...      12.549   \n",
      "3          NaN  2008.868042  2058.000000  14.345  13.141  ...      12.667   \n",
      "4          NaN  1819.896973  2059.760010  14.338  12.723  ...      12.721   \n",
      "\n",
      "   ws_est_gain_002  ws_est_003  ws_est_gain_003  ws_est_004  ws_est_gain_004  \\\n",
      "0              0.0         NaN              NaN    12.76074         0.461926   \n",
      "1              0.0         NaN              NaN    13.19400         0.000000   \n",
      "2              0.0         NaN              NaN         NaN              NaN   \n",
      "3              0.0         NaN              NaN         NaN              NaN   \n",
      "4              0.0         NaN              NaN         NaN              NaN   \n",
      "\n",
      "   ws_est_005  ws_est_gain_005  ws_est_006  ws_est_gain_006  \n",
      "0   12.814706         0.463927   12.186118         0.015927  \n",
      "1   12.360962         1.000000   12.830000         0.000000  \n",
      "2   12.351000         0.000000   13.950000         0.000000  \n",
      "3   13.034000         0.000000   14.157000         0.000000  \n",
      "4   11.565554         1.000000   13.740000         0.000000  \n",
      "\n",
      "[5 rows x 51 columns]\n"
     ]
    }
   ],
   "source": [
    "# Add estimated wind speeds\n",
    "fm, _ = load_floris(\"gch\", wd_std=0.0)\n",
    "df_scada = estimate_ws_with_floris(df_scada, fm)\n",
    "print(df_scada.head())"
   ]
  },
  {
   "cell_type": "markdown",
   "metadata": {},
   "source": [
    "# Prepare data for processing"
   ]
  },
  {
   "cell_type": "code",
   "execution_count": 4,
   "metadata": {},
   "outputs": [],
   "source": [
    "# Assign wd, ws and pow ref\n",
    "# Subset dataframe\n",
    "df_scada = df_scada.assign(\n",
    "    wd=lambda df_: df_[\"wd_smarteole\"],\n",
    "    ws=lambda df_: df_[\"ws_smarteole\"],\n",
    ")"
   ]
  },
  {
   "cell_type": "code",
   "execution_count": 5,
   "metadata": {},
   "outputs": [],
   "source": [
    "# Redefine ws as being based on the estimated wind speeds\n",
    "df_scada = df_scada.assign(\n",
    "    ws=df_scada[[\"ws_est_000\",\"ws_est_001\",\"ws_est_002\",\"ws_est_006\"]].mean(axis=1),\n",
    ")"
   ]
  },
  {
   "cell_type": "code",
   "execution_count": 6,
   "metadata": {},
   "outputs": [],
   "source": [
    "# For now limit down a bit\n",
    "df_scada = df_scada[df_scada.wd.between(195, 240)]\n",
    "df_scada = df_scada[df_scada.ws.between(4, 20)]\n",
    "# df_scada"
   ]
  },
  {
   "cell_type": "code",
   "execution_count": 7,
   "metadata": {},
   "outputs": [],
   "source": [
    "# Split df_scada into baseline and wake steeering on \"controlled\"\n",
    "# periods\n",
    "df_base = df_scada[df_scada.control_mode == \"baseline\"]\n",
    "df_con = df_scada[df_scada.control_mode == \"controlled\"]"
   ]
  },
  {
   "cell_type": "code",
   "execution_count": 8,
   "metadata": {},
   "outputs": [],
   "source": [
    "# Construct energy ratio input object using default 10 blocks\n",
    "# TO DO: allow color specification in AnalysisInput\n",
    "a_in = AnalysisInput([df_base, df_con], [\"Baseline\", \"Controlled\"])\n",
    "er_colors = {\"Baseline\": \"black\", \"Controlled\": \"red\"}"
   ]
  },
  {
   "cell_type": "markdown",
   "metadata": {},
   "source": [
    "## Uplift by wd"
   ]
  },
  {
   "cell_type": "code",
   "execution_count": 42,
   "metadata": {},
   "outputs": [
    {
     "data": {
      "image/png": "[encoded data removed]",
      "text/plain": [
       "<Figure size 700x300 with 1 Axes>"
      ]
     },
     "metadata": {},
     "output_type": "display_data"
    }
   ],
   "source": [
    "t_wd = total_uplift_expected_power_by_wd(\n",
    "    a_in=a_in,\n",
    "    uplift_pairs=[(\"Baseline\", \"Controlled\")],\n",
    "    uplift_names=[\"scada_uplift\"],\n",
    "    test_turbines=[4],\n",
    "    use_predefined_wd=True,\n",
    "    use_predefined_ws=True,\n",
    "    wd_step=2.0,\n",
    "    wd_min=0.5,\n",
    "    ws_min=0.5,\n",
    "    use_standard_error=True,\n",
    "    cov_terms=\"zero\",\n",
    "    remove_any_null_turbine_bins=False,\n",
    ")\n",
    "t_wd.plot()"
   ]
  },
  {
   "cell_type": "markdown",
   "metadata": {},
   "source": [
    "## Compute total uplift"
   ]
  },
  {
   "cell_type": "code",
   "execution_count": null,
   "metadata": {},
   "outputs": [],
   "source": []
  },
  {
   "cell_type": "code",
   "execution_count": 50,
   "metadata": {},
   "outputs": [],
   "source": [
    "epao_standard_zero = total_uplift_expected_power(\n",
    "    a_in=a_in,\n",
    "    uplift_pairs=[(\"Baseline\", \"Controlled\")],\n",
    "    uplift_names=[\"scada_uplift\"],\n",
    "    test_turbines=[4, 5],\n",
    "    use_predefined_wd=True,\n",
    "    use_predefined_ws=True,\n",
    "    wd_step=2.0,\n",
    "    wd_min=0.5,\n",
    "    ws_min=4.0,\n",
    "    ws_step=1.0,\n",
    "    use_standard_error=True,\n",
    "    cov_terms=\"zero\",\n",
    "    remove_any_null_turbine_bins=False,\n",
    ")"
   ]
  },
  {
   "cell_type": "code",
   "execution_count": 51,
   "metadata": {},
   "outputs": [
    {
     "data": {
      "text/plain": [
       "{'energy_uplift_ctr': 1.0056194957350637,\n",
       " 'energy_uplift_var': 3.645369110912276e-06,\n",
       " 'energy_uplift_lb': 1.0018773659503288,\n",
       " 'energy_uplift_ub': 1.0093616255197986,\n",
       " 'df': shape: (234, 12)\n",
       " ┌────────┬────────┬─────────────┬────────────┬───┬──────────┬────────────┬────────────┬────────────┐\n",
       " │ wd_bin ┆ ws_bin ┆ weighted_fa ┆ weighted_f ┆ … ┆ weight   ┆ expected_p ┆ expected_p ┆ weighted_e │\n",
       " │ ---    ┆ ---    ┆ rm_power_Ba ┆ arm_power_ ┆   ┆ ---      ┆ ower_ratio ┆ ower_ratio ┆ xpected_po │\n",
       " │ f32    ┆ f32    ┆ seline      ┆ Controlled ┆   ┆ f64      ┆ ---        ┆ _var       ┆ wer_ratio_ │\n",
       " │        ┆        ┆ ---         ┆ ---        ┆   ┆          ┆ f32        ┆ ---        ┆ …          │\n",
       " │        ┆        ┆ f64         ┆ f64        ┆   ┆          ┆            ┆ f64        ┆ ---        │\n",
       " │        ┆        ┆             ┆            ┆   ┆          ┆            ┆            ┆ f64        │\n",
       " ╞════════╪════════╪═════════════╪════════════╪═══╪══════════╪════════════╪════════════╪════════════╡\n",
       " │ 239.5  ┆ 12.5   ┆ 20.934985   ┆ 20.830658  ┆ … ┆ 0.005413 ┆ 0.995017   ┆ 0.000136   ┆ 1.4554e-8  │\n",
       " │ 239.5  ┆ 11.5   ┆ 24.841134   ┆ 24.695014  ┆ … ┆ 0.006849 ┆ 0.994118   ┆ 0.000175   ┆ 2.6384e-8  │\n",
       " │ 237.5  ┆ 11.5   ┆ 29.745892   ┆ 29.019941  ┆ … ┆ 0.008174 ┆ 0.975595   ┆ 0.000194   ┆ 4.2476e-8  │\n",
       " │ 237.5  ┆ 10.5   ┆ 17.104513   ┆ 16.655527  ┆ … ┆ 0.005302 ┆ 0.97375    ┆ 0.000297   ┆ 2.1434e-8  │\n",
       " │ 239.5  ┆ 10.5   ┆ 15.047791   ┆ 15.544718  ┆ … ┆ 0.00486  ┆ 1.033023   ┆ 0.000485   ┆ 2.6116e-8  │\n",
       " │ …      ┆ …      ┆ …           ┆ …          ┆ … ┆ …        ┆ …          ┆ …          ┆ …          │\n",
       " │ 235.5  ┆ 7.5    ┆ 3.073758    ┆ 3.940344   ┆ … ┆ 0.002541 ┆ 1.281931   ┆ 0.00486    ┆ 9.1149e-9  │\n",
       " │ 229.5  ┆ 7.5    ┆ 6.570417    ┆ 6.320978   ┆ … ┆ 0.00486  ┆ 0.962036   ┆ 0.000725   ┆ 7.9539e-9  │\n",
       " │ 211.5  ┆ 14.5   ┆ 0.881769    ┆ 0.802524   ┆ … ┆ 0.000221 ┆ 0.91013    ┆ 0.006756   ┆ 1.2786e-9  │\n",
       " │ 213.5  ┆ 14.5   ┆ 3.109894    ┆ 3.052632   ┆ … ┆ 0.000773 ┆ 0.981587   ┆ 0.000196   ┆ 4.6540e-10 │\n",
       " │ 205.5  ┆ 4.5    ┆ 0.251003    ┆ 0.199305   ┆ … ┆ 0.001546 ┆ 0.794035   ┆ 0.012691   ┆ 2.3014e-10 │\n",
       " └────────┴────────┴─────────────┴────────────┴───┴──────────┴────────────┴────────────┴────────────┘}"
      ]
     },
     "execution_count": 51,
     "metadata": {},
     "output_type": "execute_result"
    }
   ],
   "source": [
    "epao_standard_zero.uplift_results[\"scada_uplift\"]"
   ]
  }
 ],
 "metadata": {
  "kernelspec": {
   "display_name": ".venv",
   "language": "python",
   "name": "python3"
  },
  "language_info": {
   "codemirror_mode": {
    "name": "ipython",
    "version": 3
   },
   "file_extension": ".py",
   "mimetype": "text/x-python",
   "name": "python",
   "nbconvert_exporter": "python",
   "pygments_lexer": "ipython3",
   "version": "3.13.0"
  }
 },
 "nbformat": 4,
 "nbformat_minor": 2
}
