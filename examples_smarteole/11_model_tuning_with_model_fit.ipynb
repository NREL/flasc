{
 "cells": [
  {
   "cell_type": "markdown",
   "metadata": {},
   "source": [
    "# Tuning FLORIS using ModelFit"
   ]
  },
  {
   "cell_type": "markdown",
   "metadata": {},
   "source": [
    "Demonstrate tuning of FLORIS to the SCADA data using the ModelFit object"
   ]
  },
  {
   "cell_type": "code",
   "execution_count": 1,
   "metadata": {},
   "outputs": [],
   "source": [
    "from pathlib import Path\n",
    "\n",
    "import pandas as pd\n",
    "\n",
    "from flasc.data_processing.dataframe_manipulations import (\n",
    "    is_day_or_night,\n",
    "    plot_sun_altitude_with_day_night_color,\n",
    ")\n",
    "\n",
    "import matplotlib.pyplot as plt\n",
    "import numpy as np\n",
    "\n",
    "from floris import UncertainFlorisModel\n",
    "\n",
    "import flasc.model_fitting.floris_tuning as ft\n",
    "from flasc.analysis import energy_ratio as er\n",
    "from flasc.analysis.analysis_input import AnalysisInput\n",
    "from flasc.utilities.tuner_utilities import resim_floris\n",
    "from flasc.utilities.utilities_examples import load_floris_smarteole\n",
    "\n",
    "import logging\n",
    "import pickle\n",
    "import sys\n",
    "from pathlib import Path\n",
    "\n",
    "import numpy as np\n",
    "import pandas as pd\n",
    "import optuna\n",
    "from flasc.data_processing.dataframe_manipulations import is_day_or_night\n",
    "from flasc.model_fit.cost_library import turbine_power_error_abs\n",
    "from flasc.model_fit.model_fit import ModelFit\n",
    "from flasc.model_fit.opt_library import atomic_opt_optuna, opt_optuna_with_unc\n",
    "from floris import ParFlorisModel, UncertainFlorisModel\n",
    "\n",
    "# You can use Matplotlib instead of Plotly for visualization by simply replacing `optuna.visualization` with\n",
    "# `optuna.visualization.matplotlib` in the following examples.\n",
    "from optuna.visualization.matplotlib import (\n",
    "    plot_contour,\n",
    "    plot_edf,\n",
    "    plot_intermediate_values,\n",
    "    plot_optimization_history,\n",
    "    plot_parallel_coordinate,\n",
    "    plot_param_importances,\n",
    "    plot_rank,\n",
    "    plot_slice,\n",
    "    plot_timeline,\n",
    ")\n"
   ]
  },
  {
   "cell_type": "markdown",
   "metadata": {},
   "source": [
    "## Read data"
   ]
  },
  {
   "cell_type": "code",
   "execution_count": 2,
   "metadata": {},
   "outputs": [],
   "source": [
    "root_path = Path.cwd()\n",
    "f = root_path / \"postprocessed\" / \"df_scada_data_60s_filtered_and_northing_calibrated.pkl\"\n",
    "df_scada = pd.read_pickle(f)"
   ]
  },
  {
   "cell_type": "code",
   "execution_count": 3,
   "metadata": {},
   "outputs": [],
   "source": [
    "latitude = 49.8435\n",
    "longitude = 2.801556\n",
    "\n",
    "# Compute day/night in default settings and plot\n",
    "df_scada = is_day_or_night(df_scada, latitude, longitude)"
   ]
  },
  {
   "cell_type": "code",
   "execution_count": 4,
   "metadata": {},
   "outputs": [],
   "source": [
    "# Limit SCADA data to region of wake steering\n",
    "\n",
    "# Specify offsets\n",
    "start_of_offset = 200  # deg\n",
    "end_of_offset = 240  # deg\n",
    "\n",
    "# Limit SCADA to this region\n",
    "df_scada = df_scada[\n",
    "    (df_scada.wd_smarteole > (start_of_offset - 20))\n",
    "    & (df_scada.wd_smarteole < (end_of_offset + 20))\n",
    "]"
   ]
  },
  {
   "cell_type": "code",
   "execution_count": 5,
   "metadata": {},
   "outputs": [],
   "source": [
    "# Assign wd, ws and pow ref and subset SCADA based on reference variables used\n",
    "# in the SMARTEOLE wake steering experiment (TODO reference the experiment)\n",
    "df_scada = df_scada.assign(\n",
    "    wd=lambda df_: df_[\"wd_smarteole\"],\n",
    "    ws=lambda df_: df_[\"ws_smarteole\"],\n",
    "    pow_ref=lambda df_: df_[\"pow_ref_smarteole\"],\n",
    ")"
   ]
  },
  {
   "cell_type": "code",
   "execution_count": 6,
   "metadata": {},
   "outputs": [],
   "source": [
    "# For tuning grab the reference, control and test turbines\n",
    "ref_turbs = [0, 1, 2, 6]\n",
    "test_turbs = [4]\n",
    "control_turbs = [5]"
   ]
  },
  {
   "cell_type": "markdown",
   "metadata": {},
   "source": [
    "## Split the data\n"
   ]
  },
  {
   "cell_type": "code",
   "execution_count": 7,
   "metadata": {},
   "outputs": [],
   "source": [
    "# Split SCADA into baseline and wake steeering (controlled)\n",
    "df_scada_baseline = df_scada[df_scada.control_mode == \"baseline\"]\n",
    "df_scada_controlled = df_scada[df_scada.control_mode == \"controlled\"]"
   ]
  },
  {
   "cell_type": "code",
   "execution_count": 8,
   "metadata": {},
   "outputs": [],
   "source": [
    "df_scada_baseline_day = df_scada_baseline[df_scada_baseline.is_day]\n",
    "df_scada_baseline_night = df_scada_baseline[~df_scada_baseline.is_day]\n",
    "df_scada_controlled_day = df_scada_controlled[df_scada_controlled.is_day]\n",
    "df_scada_controlled_night = df_scada_controlled[~df_scada_controlled.is_day]"
   ]
  },
  {
   "cell_type": "markdown",
   "metadata": {},
   "source": [
    "## Load FLORIS Model"
   ]
  },
  {
   "cell_type": "code",
   "execution_count": 9,
   "metadata": {},
   "outputs": [],
   "source": [
    "fm, _ = load_floris_smarteole(wake_model=\"emgauss\")\n",
    "D = fm.core.farm.rotor_diameters[0]"
   ]
  },
  {
   "cell_type": "markdown",
   "metadata": {},
   "source": [
    "#### Assume uncertain model"
   ]
  },
  {
   "cell_type": "code",
   "execution_count": 10,
   "metadata": {},
   "outputs": [],
   "source": [
    "fm = UncertainFlorisModel(fm, wd_std=3.0, wd_resolution=2.0, ws_resolution=0.25)"
   ]
  },
  {
   "cell_type": "markdown",
   "metadata": {},
   "source": [
    "# Baseline tuning"
   ]
  },
  {
   "cell_type": "code",
   "execution_count": 11,
   "metadata": {},
   "outputs": [],
   "source": [
    "# Just tune the first wake expansion parameter\n",
    "parameter_list = [\n",
    "            (\n",
    "                \"wake\",\n",
    "                \"wake_velocity_parameters\",\n",
    "                \"empirical_gauss\",\n",
    "                \"wake_expansion_rates\",\n",
    "            )\n",
    "        ]\n",
    "\n",
    "parameter_name_list = [\n",
    "    \"we_1\",\n",
    "]\n",
    "\n",
    "parameter_range_list = [\n",
    "    (0.0, 0.2),\n",
    "]\n",
    "\n",
    "parameter_index_list = [0]"
   ]
  },
  {
   "cell_type": "code",
   "execution_count": 12,
   "metadata": {},
   "outputs": [],
   "source": [
    "mf = ModelFit(\n",
    "        df_scada_baseline,\n",
    "        fm,\n",
    "        turbine_power_error_abs,\n",
    "        parameter_list=parameter_list,\n",
    "        parameter_name_list=parameter_name_list,\n",
    "        parameter_range_list=parameter_range_list,\n",
    "        parameter_index_list=parameter_index_list,\n",
    "    )"
   ]
  },
  {
   "cell_type": "code",
   "execution_count": null,
   "metadata": {},
   "outputs": [
    {
     "name": "stdout",
     "output_type": "stream",
     "text": [
      "Evaluating baseline cost\n",
      "Baseline cost: 15744146.432581067\n"
     ]
    }
   ],
   "source": [
    "\n",
    "# Compute the default cost\n",
    "print(\"Evaluating cost with default parameters\")\n",
    "default_cost = mf.evaluate_floris()\n",
    "print(f\"Default cost: {default_cost}\")"
   ]
  },
  {
   "cell_type": "code",
   "execution_count": 14,
   "metadata": {},
   "outputs": [
    {
     "name": "stderr",
     "output_type": "stream",
     "text": [
      "[I 2025-04-07 21:14:46,514] A new study created in memory with name: ModelFit\n",
      "[I 2025-04-07 21:14:49,359] Trial 0 finished with value: 15744146.432581067 and parameters: {'we_1': 0.01}. Best is trial 0 with value: 15744146.432581067.\n",
      "[I 2025-04-07 21:14:52,144] Trial 1 finished with value: 17018999.581567045 and parameters: {'we_1': 0.10976270078546496}. Best is trial 0 with value: 15744146.432581067.\n",
      "[I 2025-04-07 21:14:54,911] Trial 2 finished with value: 17336127.660370752 and parameters: {'we_1': 0.1430378732744839}. Best is trial 0 with value: 15744146.432581067.\n",
      "[I 2025-04-07 21:14:57,658] Trial 3 finished with value: 17135252.203355674 and parameters: {'we_1': 0.12055267521432877}. Best is trial 0 with value: 15744146.432581067.\n",
      "[I 2025-04-07 21:15:00,490] Trial 4 finished with value: 17010106.527407728 and parameters: {'we_1': 0.10897663659937938}. Best is trial 0 with value: 15744146.432581067.\n",
      "[I 2025-04-07 21:15:03,395] Trial 5 finished with value: 16689668.770873036 and parameters: {'we_1': 0.08473095986778095}. Best is trial 0 with value: 15744146.432581067.\n",
      "[I 2025-04-07 21:15:06,230] Trial 6 finished with value: 17218743.326146193 and parameters: {'we_1': 0.12917882261333122}. Best is trial 0 with value: 15744146.432581067.\n",
      "[I 2025-04-07 21:15:09,028] Trial 7 finished with value: 16730458.245776705 and parameters: {'we_1': 0.0875174422525385}. Best is trial 0 with value: 15744146.432581067.\n",
      "[I 2025-04-07 21:15:11,895] Trial 8 finished with value: 17565036.94467719 and parameters: {'we_1': 0.17835460015641597}. Best is trial 0 with value: 15744146.432581067.\n",
      "[I 2025-04-07 21:15:14,785] Trial 9 finished with value: 17635354.15989496 and parameters: {'we_1': 0.19273255210020587}. Best is trial 0 with value: 15744146.432581067.\n",
      "[I 2025-04-07 21:15:17,617] Trial 10 finished with value: 15908433.658521086 and parameters: {'we_1': 0.004066894324986109}. Best is trial 0 with value: 15744146.432581067.\n",
      "[I 2025-04-07 21:15:20,465] Trial 11 finished with value: 15964988.996944476 and parameters: {'we_1': 0.0026189866366499786}. Best is trial 0 with value: 15744146.432581067.\n",
      "[I 2025-04-07 21:15:23,281] Trial 12 finished with value: 15905300.686574029 and parameters: {'we_1': 0.004153766953386692}. Best is trial 0 with value: 15744146.432581067.\n",
      "[I 2025-04-07 21:15:26,143] Trial 13 finished with value: 15937232.772448432 and parameters: {'we_1': 0.04185668450911706}. Best is trial 0 with value: 15744146.432581067.\n",
      "[I 2025-04-07 21:15:29,004] Trial 14 finished with value: 15959624.179990463 and parameters: {'we_1': 0.043084017477525154}. Best is trial 0 with value: 15744146.432581067.\n",
      "[I 2025-04-07 21:15:31,924] Trial 15 finished with value: 15918231.44117874 and parameters: {'we_1': 0.04080395062990495}. Best is trial 0 with value: 15744146.432581067.\n",
      "[I 2025-04-07 21:15:34,727] Trial 16 finished with value: 15662061.131524194 and parameters: {'we_1': 0.02158341763585824}. Best is trial 16 with value: 15662061.131524194.\n",
      "[I 2025-04-07 21:15:37,523] Trial 17 finished with value: 16391267.304224636 and parameters: {'we_1': 0.06640822049701303}. Best is trial 16 with value: 15662061.131524194.\n",
      "[I 2025-04-07 21:15:40,316] Trial 18 finished with value: 15741543.08561094 and parameters: {'we_1': 0.02984868869420012}. Best is trial 16 with value: 15662061.131524194.\n",
      "[I 2025-04-07 21:15:43,084] Trial 19 finished with value: 15722391.03144775 and parameters: {'we_1': 0.0283475363349862}. Best is trial 16 with value: 15662061.131524194.\n"
     ]
    }
   ],
   "source": [
    "# Optimization\n",
    "n_trials = 20\n",
    "opt_result, study = atomic_opt_optuna(mf, timeout=None, n_trials=n_trials)"
   ]
  },
  {
   "cell_type": "markdown",
   "metadata": {},
   "source": [
    "## Tune the deflection model"
   ]
  },
  {
   "cell_type": "code",
   "execution_count": 17,
   "metadata": {},
   "outputs": [],
   "source": [
    "# Just tune the first wake expansion parameter\n",
    "parameter_list = [\n",
    "            (\n",
    "        \"wake\",\n",
    "        \"wake_deflection_parameters\",\n",
    "        \"empirical_gauss\",\n",
    "        \"horizontal_deflection_gain_D\",\n",
    "            )\n",
    "        ]\n",
    "\n",
    "parameter_name_list = [\n",
    "    \"deflection_gain\",\n",
    "]\n",
    "\n",
    "parameter_range_list = [\n",
    "    (0.0, 5.0),\n",
    "]\n",
    "\n",
    "parameter_index_list = [None]"
   ]
  },
  {
   "cell_type": "code",
   "execution_count": 18,
   "metadata": {},
   "outputs": [],
   "source": [
    "# Set the yaw angle matrix\n",
    "yaw_vec = df_scada_controlled.wind_vane_005\n",
    "\n",
    "yaw_angles = np.zeros((yaw_vec.shape[0], 7))\n",
    "yaw_angles[:, control_turbs[0]] = yaw_vec"
   ]
  },
  {
   "cell_type": "code",
   "execution_count": 20,
   "metadata": {},
   "outputs": [],
   "source": [
    "mf = ModelFit(\n",
    "        df_scada_controlled,\n",
    "        fm,\n",
    "        turbine_power_error_abs,\n",
    "        parameter_list=parameter_list,\n",
    "        parameter_name_list=parameter_name_list,\n",
    "        parameter_range_list=parameter_range_list,\n",
    "        parameter_index_list=parameter_index_list,\n",
    "        yaw_angles=yaw_angles,\n",
    "    )"
   ]
  },
  {
   "cell_type": "code",
   "execution_count": null,
   "metadata": {},
   "outputs": [
    {
     "name": "stdout",
     "output_type": "stream",
     "text": [
      "Evaluating cost with default parameters\n",
      "Default cost: 15496862.862766583\n"
     ]
    }
   ],
   "source": [
    "# Compute the default cost\n",
    "print(\"Evaluating cost with default parameters\")\n",
    "default_cost = mf.evaluate_floris()\n",
    "print(f\"Default cost: {default_cost}\")"
   ]
  },
  {
   "cell_type": "code",
   "execution_count": 22,
   "metadata": {},
   "outputs": [
    {
     "name": "stderr",
     "output_type": "stream",
     "text": [
      "[I 2025-04-07 21:16:47,160] A new study created in memory with name: ModelFit\n",
      "[I 2025-04-07 21:16:53,779] Trial 0 finished with value: 15496862.862766583 and parameters: {'deflection_gain': 3.0}. Best is trial 0 with value: 15496862.862766583.\n",
      "[I 2025-04-07 21:17:00,307] Trial 1 finished with value: 15492154.108956836 and parameters: {'deflection_gain': 2.7440675196366238}. Best is trial 1 with value: 15492154.108956836.\n",
      "[I 2025-04-07 21:17:07,024] Trial 2 finished with value: 15510094.082506895 and parameters: {'deflection_gain': 3.5759468318620975}. Best is trial 1 with value: 15492154.108956836.\n",
      "[I 2025-04-07 21:17:13,599] Trial 3 finished with value: 15497131.480597619 and parameters: {'deflection_gain': 3.0138168803582195}. Best is trial 1 with value: 15492154.108956836.\n",
      "[I 2025-04-07 21:17:20,105] Trial 4 finished with value: 15491803.25647524 and parameters: {'deflection_gain': 2.724415914984484}. Best is trial 4 with value: 15491803.25647524.\n",
      "[I 2025-04-07 21:17:26,609] Trial 5 finished with value: 15484965.384305362 and parameters: {'deflection_gain': 2.1182739966945237}. Best is trial 5 with value: 15484965.384305362.\n",
      "[I 2025-04-07 21:17:33,154] Trial 6 finished with value: 15501682.03054326 and parameters: {'deflection_gain': 3.2294705653332807}. Best is trial 5 with value: 15484965.384305362.\n",
      "[I 2025-04-07 21:17:39,766] Trial 7 finished with value: 15485409.259890717 and parameters: {'deflection_gain': 2.1879360563134624}. Best is trial 5 with value: 15484965.384305362.\n",
      "[I 2025-04-07 21:17:46,475] Trial 8 finished with value: 15538329.567981243 and parameters: {'deflection_gain': 4.4588650039103985}. Best is trial 5 with value: 15484965.384305362.\n",
      "[I 2025-04-07 21:17:53,051] Trial 9 finished with value: 15552388.572224416 and parameters: {'deflection_gain': 4.818313802505147}. Best is trial 5 with value: 15484965.384305362.\n",
      "[I 2025-04-07 21:17:59,633] Trial 10 finished with value: 15489964.05621947 and parameters: {'deflection_gain': 0.7534871577553619}. Best is trial 5 with value: 15484965.384305362.\n",
      "[I 2025-04-07 21:18:06,295] Trial 11 finished with value: 15483892.878122542 and parameters: {'deflection_gain': 1.447246704517879}. Best is trial 11 with value: 15483892.878122542.\n",
      "[I 2025-04-07 21:18:12,996] Trial 12 finished with value: 15483919.293820031 and parameters: {'deflection_gain': 1.4420455863684225}. Best is trial 11 with value: 15483892.878122542.\n",
      "[I 2025-04-07 21:18:19,561] Trial 13 finished with value: 15486642.832598262 and parameters: {'deflection_gain': 1.039710697065045}. Best is trial 11 with value: 15483892.878122542.\n",
      "[I 2025-04-07 21:18:26,428] Trial 14 finished with value: 15483960.943721913 and parameters: {'deflection_gain': 1.4308595705811684}. Best is trial 11 with value: 15483892.878122542.\n",
      "[I 2025-04-07 21:18:33,022] Trial 15 finished with value: 15503082.069446184 and parameters: {'deflection_gain': 0.0686843210396848}. Best is trial 11 with value: 15483892.878122542.\n",
      "[I 2025-04-07 21:18:39,720] Trial 16 finished with value: 15483630.157697331 and parameters: {'deflection_gain': 1.5419923563696645}. Best is trial 16 with value: 15483630.157697331.\n",
      "[I 2025-04-07 21:18:46,287] Trial 17 finished with value: 15483715.5665933 and parameters: {'deflection_gain': 1.8323520026693187}. Best is trial 16 with value: 15483630.157697331.\n",
      "[I 2025-04-07 21:18:52,882] Trial 18 finished with value: 15500466.402538236 and parameters: {'deflection_gain': 0.1783075255809301}. Best is trial 16 with value: 15483630.157697331.\n",
      "[I 2025-04-07 21:18:59,412] Trial 19 finished with value: 15483832.094840914 and parameters: {'deflection_gain': 1.8952444001448714}. Best is trial 16 with value: 15483630.157697331.\n"
     ]
    }
   ],
   "source": [
    "# Optimization\n",
    "n_trials = 20\n",
    "opt_result, study = atomic_opt_optuna(mf, timeout=None, n_trials=n_trials)"
   ]
  }
 ],
 "metadata": {
  "kernelspec": {
   "display_name": ".venv",
   "language": "python",
   "name": "python3"
  },
  "language_info": {
   "codemirror_mode": {
    "name": "ipython",
    "version": 3
   },
   "file_extension": ".py",
   "mimetype": "text/x-python",
   "name": "python",
   "nbconvert_exporter": "python",
   "pygments_lexer": "ipython3",
   "version": "3.13.0"
  }
 },
 "nbformat": 4,
 "nbformat_minor": 2
}
