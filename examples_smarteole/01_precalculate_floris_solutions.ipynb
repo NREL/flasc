{
 "cells": [
  {
   "attachments": {},
   "cell_type": "markdown",
   "metadata": {},
   "source": [
    "# Precalculate FLORIS Solutions\n",
    "\n",
    "Use FLASC tools to precalculate the FLORIS solutions across wind speeds and directions without wake steering to enable faster comparisons in later steps. The FLORIS solutions based on four different wake models are then saved in the \"/precalculated_floris_solutions\" folder. "
   ]
  },
  {
   "cell_type": "code",
   "execution_count": 1,
   "metadata": {},
   "outputs": [],
   "source": [
    "from pathlib import Path\n",
    "from time import perf_counter as timerpc\n",
    "\n",
    "import numpy as np\n",
    "\n",
    "# from floris.tools import ParallelComputingInterface\n",
    "from flasc.utilities import floris_tools as ftools\n",
    "from flasc.utilities.utilities_examples import load_floris_smarteole as load_floris"
   ]
  },
  {
   "cell_type": "code",
   "execution_count": 2,
   "metadata": {},
   "outputs": [],
   "source": [
    "# User settings\n",
    "max_workers = 16\n",
    "wake_models = [\"jensen\", \"turbopark\", \"gch\", \"cc\"]"
   ]
  },
  {
   "cell_type": "code",
   "execution_count": 3,
   "metadata": {},
   "outputs": [
    {
     "name": "stdout",
     "output_type": "stream",
     "text": [
      "Precalculating FLORIS table for 'jensen' model...\n",
      "Generating a df_approx table of FLORIS solutions covering a total of 18150 cases.\n",
      "Finished calculating the FLORIS solutions for the dataframe.\n",
      "Computation time: 3.92 s\n",
      "Precalculating FLORIS table for 'turbopark' model...\n",
      "Generating a df_approx table of FLORIS solutions covering a total of 18150 cases.\n",
      "Finished calculating the FLORIS solutions for the dataframe.\n",
      "Computation time: 6.61 s\n",
      "Precalculating FLORIS table for 'gch' model...\n",
      "Generating a df_approx table of FLORIS solutions covering a total of 18150 cases.\n",
      "Finished calculating the FLORIS solutions for the dataframe.\n",
      "Computation time: 5.15 s\n",
      "Precalculating FLORIS table for 'cc' model...\n",
      "Generating a df_approx table of FLORIS solutions covering a total of 18150 cases.\n",
      "Finished calculating the FLORIS solutions for the dataframe.\n",
      "Computation time: 6.29 s\n"
     ]
    }
   ],
   "source": [
    "# Precalculate FLORIS solutions\n",
    "root_path = Path.cwd() / \"precalculated_floris_solutions\"\n",
    "root_path.mkdir(exist_ok=True)\n",
    "\n",
    "for wake_model in wake_models:\n",
    "    fn = root_path / \"df_fi_approx_{:s}.ftr\".format(wake_model)\n",
    "    if fn.is_file():\n",
    "        print(\"FLORIS table for '{:s}' model exists. Skipping...\".format(wake_model))\n",
    "        continue\n",
    "\n",
    "    start_time = timerpc()\n",
    "    print(\"Precalculating FLORIS table for '{:s}' model...\".format(wake_model))\n",
    "    fm, _ = load_floris(wake_model=wake_model)\n",
    "    # fi_pci = ParallelComputingInterface(\n",
    "    #     fi=fi,\n",
    "    #     max_workers=max_workers,\n",
    "    #     n_wind_direction_splits=max_workers,\n",
    "    #     print_timings=True,\n",
    "    # )\n",
    "    df_fm_approx = ftools.calc_floris_approx_table(\n",
    "        fm=fm,  # fi_pci,\n",
    "        wd_array=np.arange(0.0, 360.01, 3.0),\n",
    "        ws_array=np.arange(1.0, 30.01, 1.0),\n",
    "        ti_array=[0.03, 0.06, 0.09, 0.12, 0.15],\n",
    "    )\n",
    "    end_time = timerpc()\n",
    "    print(\"Computation time: {:.2f} s\".format(end_time - start_time))\n",
    "    df_fm_approx.to_feather(fn)"
   ]
  }
 ],
 "metadata": {
  "interpreter": {
   "hash": "96c53852a1e56d9fbc8381f88ff3256056a2f574c5e86cd3dfe6ce1bc9d68e6a"
  },
  "kernelspec": {
   "display_name": "Python 3.10.4 64-bit ('flasc-reqs': conda)",
   "name": "python3"
  },
  "language_info": {
   "codemirror_mode": {
    "name": "ipython",
    "version": 3
   },
   "file_extension": ".py",
   "mimetype": "text/x-python",
   "name": "python",
   "nbconvert_exporter": "python",
   "pygments_lexer": "ipython3",
   "version": "3.10.4"
  },
  "toc": {
   "base_numbering": 1,
   "nav_menu": {},
   "number_sections": true,
   "sideBar": true,
   "skip_h1_title": false,
   "title_cell": "Table of Contents",
   "title_sidebar": "Contents",
   "toc_cell": false,
   "toc_position": {},
   "toc_section_display": true,
   "toc_window_display": false
  }
 },
 "nbformat": 4,
 "nbformat_minor": 2
}
