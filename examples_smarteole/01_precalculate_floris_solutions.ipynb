{
 "cells": [
  {
   "cell_type": "markdown",
   "metadata": {},
   "source": [
    "# Precalculate FLORIS Solutions\n",
    "\n",
    "Use FLASC tools to precalculate the FLORIS solutions across wind speeds and directions without wake steering to enable faster comparisons in later steps. The FLORIS solutions based on four different wake models are then saved in the \"/precalculated_floris_solutions\" folder. "
   ]
  },
  {
   "cell_type": "code",
   "execution_count": 1,
   "metadata": {},
   "outputs": [],
   "source": [
    "from pathlib import Path\n",
    "import numpy as np\n",
    "from time import perf_counter as timerpc\n",
    "\n",
    "from floris.tools import ParallelComputingInterface\n",
    "from flasc import floris_tools as ftools\n",
    "\n",
    "from models import load_smarteole_floris"
   ]
  },
  {
   "cell_type": "code",
   "execution_count": 2,
   "metadata": {},
   "outputs": [],
   "source": [
    "# User settings\n",
    "max_workers = 16\n",
    "wake_models = [\"jensen\", \"turbopark\", \"gch\", \"cc\"]"
   ]
  },
  {
   "cell_type": "code",
   "execution_count": 3,
   "metadata": {},
   "outputs": [
    {
     "name": "stdout",
     "output_type": "stream",
     "text": [
      "FLORIS table for 'jensen' model exists. Skipping...\n",
      "FLORIS table for 'turbopark' model exists. Skipping...\n",
      "FLORIS table for 'gch' model exists. Skipping...\n",
      "FLORIS table for 'cc' model exists. Skipping...\n"
     ]
    }
   ],
   "source": [
    "# Precalculate FLORIS solutions\n",
    "root_path = Path.cwd() / \"precalculated_floris_solutions\"\n",
    "root_path.mkdir(exist_ok=True)\n",
    "\n",
    "for wake_model in wake_models:\n",
    "    fn = root_path / \"df_fi_approx_{:s}.ftr\".format(wake_model)\n",
    "    if fn.is_file():\n",
    "        print(\"FLORIS table for '{:s}' model exists. Skipping...\".format(wake_model))\n",
    "        continue\n",
    "\n",
    "    start_time = timerpc()\n",
    "    print(\"Precalculating FLORIS table for '{:s}' model...\".format(wake_model))\n",
    "    fi_pci = ParallelComputingInterface(\n",
    "        fi=load_smarteole_floris(wake_model=wake_model),\n",
    "        max_workers=max_workers,\n",
    "        n_wind_direction_splits=max_workers,\n",
    "        print_timings=True,\n",
    "    )\n",
    "    df_fi_approx = ftools.calc_floris_approx_table(\n",
    "        fi=fi_pci,\n",
    "        wd_array=np.arange(0.0, 360.01, 3.0),\n",
    "        ws_array=np.arange(1.0, 30.01, 1.0),\n",
    "        ti_array=[0.03, 0.06, 0.09, 0.12, 0.15],\n",
    "    )\n",
    "    end_time = timerpc()\n",
    "    print(\"Computation time: {:.2f} s\".format(end_time - start_time))\n",
    "    df_fi_approx.to_feather(fn)"
   ]
  }
 ],
 "metadata": {
  "kernelspec": {
   "display_name": "floris",
   "language": "python",
   "name": "python3"
  },
  "language_info": {
   "codemirror_mode": {
    "name": "ipython",
    "version": 3
   },
   "file_extension": ".py",
   "mimetype": "text/x-python",
   "name": "python",
   "nbconvert_exporter": "python",
   "pygments_lexer": "ipython3",
   "version": "3.10.4"
  },
  "toc": {
   "base_numbering": 1,
   "nav_menu": {},
   "number_sections": true,
   "sideBar": true,
   "skip_h1_title": false,
   "title_cell": "Table of Contents",
   "title_sidebar": "Contents",
   "toc_cell": false,
   "toc_position": {},
   "toc_section_display": true,
   "toc_window_display": false
  }
 },
 "nbformat": 4,
 "nbformat_minor": 2
}
